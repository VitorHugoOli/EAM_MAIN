{
 "cells": [
  {
   "cell_type": "code",
   "execution_count": 1,
   "metadata": {},
   "outputs": [],
   "source": [
    "import pandas as pd\n",
    "df = pd.read_pickle('/Users/vitorhugo/Desktop/facu.nosync/PER_4/EAM/TPs/main/data/microplastics.pkl')"
   ]
  },
  {
   "cell_type": "code",
   "execution_count": 2,
   "metadata": {
    "pycharm": {
     "name": "#%%\n"
    }
   },
   "outputs": [
    {
     "data": {
      "text/plain": "                         MP_concentration  stdev_MP_samples  num_MP_samples\ntime       lat   lon                                                       \n2017-05-30  37.0 0.00       127820.876840       1134.182195             528\n                 0.25        71882.360409        828.196445             528\n                 0.50        48858.744530        431.143039             509\n                 0.75        46302.631274        388.572453             458\n                 1.00        89564.673565        366.544543             411\n...                                   ...               ...             ...\n2017-08-04 -37.0 358.75       3031.899617      45427.360993             528\n                 359.00       1597.595478     103238.629376             386\n                 359.25       1046.111470     120685.757493             398\n                 359.50        933.054334     210908.877960             425\n                 359.75       2132.017046      70955.147255             436\n\n[231802560 rows x 3 columns]",
      "text/html": "<div>\n<style scoped>\n    .dataframe tbody tr th:only-of-type {\n        vertical-align: middle;\n    }\n\n    .dataframe tbody tr th {\n        vertical-align: top;\n    }\n\n    .dataframe thead th {\n        text-align: right;\n    }\n</style>\n<table border=\"1\" class=\"dataframe\">\n  <thead>\n    <tr style=\"text-align: right;\">\n      <th></th>\n      <th></th>\n      <th></th>\n      <th>MP_concentration</th>\n      <th>stdev_MP_samples</th>\n      <th>num_MP_samples</th>\n    </tr>\n    <tr>\n      <th>time</th>\n      <th>lat</th>\n      <th>lon</th>\n      <th></th>\n      <th></th>\n      <th></th>\n    </tr>\n  </thead>\n  <tbody>\n    <tr>\n      <th rowspan=\"5\" valign=\"top\">2017-05-30</th>\n      <th rowspan=\"5\" valign=\"top\">37.0</th>\n      <th>0.00</th>\n      <td>127820.876840</td>\n      <td>1134.182195</td>\n      <td>528</td>\n    </tr>\n    <tr>\n      <th>0.25</th>\n      <td>71882.360409</td>\n      <td>828.196445</td>\n      <td>528</td>\n    </tr>\n    <tr>\n      <th>0.50</th>\n      <td>48858.744530</td>\n      <td>431.143039</td>\n      <td>509</td>\n    </tr>\n    <tr>\n      <th>0.75</th>\n      <td>46302.631274</td>\n      <td>388.572453</td>\n      <td>458</td>\n    </tr>\n    <tr>\n      <th>1.00</th>\n      <td>89564.673565</td>\n      <td>366.544543</td>\n      <td>411</td>\n    </tr>\n    <tr>\n      <th>...</th>\n      <th>...</th>\n      <th>...</th>\n      <td>...</td>\n      <td>...</td>\n      <td>...</td>\n    </tr>\n    <tr>\n      <th rowspan=\"5\" valign=\"top\">2017-08-04</th>\n      <th rowspan=\"5\" valign=\"top\">-37.0</th>\n      <th>358.75</th>\n      <td>3031.899617</td>\n      <td>45427.360993</td>\n      <td>528</td>\n    </tr>\n    <tr>\n      <th>359.00</th>\n      <td>1597.595478</td>\n      <td>103238.629376</td>\n      <td>386</td>\n    </tr>\n    <tr>\n      <th>359.25</th>\n      <td>1046.111470</td>\n      <td>120685.757493</td>\n      <td>398</td>\n    </tr>\n    <tr>\n      <th>359.50</th>\n      <td>933.054334</td>\n      <td>210908.877960</td>\n      <td>425</td>\n    </tr>\n    <tr>\n      <th>359.75</th>\n      <td>2132.017046</td>\n      <td>70955.147255</td>\n      <td>436</td>\n    </tr>\n  </tbody>\n</table>\n<p>231802560 rows × 3 columns</p>\n</div>"
     },
     "execution_count": 2,
     "metadata": {},
     "output_type": "execute_result"
    }
   ],
   "source": [
    "df"
   ]
  }
 ],
 "metadata": {
  "kernelspec": {
   "display_name": "Python 3 (ipykernel)",
   "language": "python",
   "name": "python3"
  },
  "language_info": {
   "codemirror_mode": {
    "name": "ipython",
    "version": 3
   },
   "file_extension": ".py",
   "mimetype": "text/x-python",
   "name": "python",
   "nbconvert_exporter": "python",
   "pygments_lexer": "ipython3",
   "version": "3.8.9"
  }
 },
 "nbformat": 4,
 "nbformat_minor": 1
}