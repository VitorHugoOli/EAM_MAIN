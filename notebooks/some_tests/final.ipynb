{
 "cells": [
  {
   "cell_type": "code",
   "execution_count": 6,
   "metadata": {
    "collapsed": true,
    "pycharm": {
     "name": "#%%\n"
    }
   },
   "outputs": [],
   "source": [
    "# dataset\n",
    "import pandas as pd"
   ]
  },
  {
   "cell_type": "code",
   "execution_count": 82,
   "outputs": [],
   "source": [
    "df_precip = pd.read_csv('../data/precip.csv')"
   ],
   "metadata": {
    "collapsed": false,
    "pycharm": {
     "name": "#%%\n"
    }
   }
  },
  {
   "cell_type": "code",
   "execution_count": 83,
   "outputs": [
    {
     "data": {
      "text/plain": "         time  depth  latitude  longitude   v\n0  1993-01-01   15.0      69.5       20.5 NaN\n1  1993-01-01   15.0      69.5       21.5 NaN\n2  1993-01-01   15.0      69.5       22.5 NaN\n3  1993-01-01   15.0      69.5       23.5 NaN\n4  1993-01-01   15.0      69.5       24.5 NaN",
      "text/html": "<div>\n<style scoped>\n    .dataframe tbody tr th:only-of-type {\n        vertical-align: middle;\n    }\n\n    .dataframe tbody tr th {\n        vertical-align: top;\n    }\n\n    .dataframe thead th {\n        text-align: right;\n    }\n</style>\n<table border=\"1\" class=\"dataframe\">\n  <thead>\n    <tr style=\"text-align: right;\">\n      <th></th>\n      <th>time</th>\n      <th>depth</th>\n      <th>latitude</th>\n      <th>longitude</th>\n      <th>v</th>\n    </tr>\n  </thead>\n  <tbody>\n    <tr>\n      <th>0</th>\n      <td>1993-01-01</td>\n      <td>15.0</td>\n      <td>69.5</td>\n      <td>20.5</td>\n      <td>NaN</td>\n    </tr>\n    <tr>\n      <th>1</th>\n      <td>1993-01-01</td>\n      <td>15.0</td>\n      <td>69.5</td>\n      <td>21.5</td>\n      <td>NaN</td>\n    </tr>\n    <tr>\n      <th>2</th>\n      <td>1993-01-01</td>\n      <td>15.0</td>\n      <td>69.5</td>\n      <td>22.5</td>\n      <td>NaN</td>\n    </tr>\n    <tr>\n      <th>3</th>\n      <td>1993-01-01</td>\n      <td>15.0</td>\n      <td>69.5</td>\n      <td>23.5</td>\n      <td>NaN</td>\n    </tr>\n    <tr>\n      <th>4</th>\n      <td>1993-01-01</td>\n      <td>15.0</td>\n      <td>69.5</td>\n      <td>24.5</td>\n      <td>NaN</td>\n    </tr>\n  </tbody>\n</table>\n</div>"
     },
     "execution_count": 83,
     "metadata": {},
     "output_type": "execute_result"
    }
   ],
   "source": [
    "df_precip.head()"
   ],
   "metadata": {
    "collapsed": false,
    "pycharm": {
     "name": "#%%\n"
    }
   }
  },
  {
   "cell_type": "code",
   "execution_count": 84,
   "outputs": [],
   "source": [
    "df_art = pd.read_csv('../data/43591_2021_13_MOESM3_ESM/Level012R1.csv', header=0)"
   ],
   "metadata": {
    "collapsed": false,
    "pycharm": {
     "name": "#%%\n"
    }
   }
  },
  {
   "cell_type": "code",
   "execution_count": 85,
   "outputs": [
    {
     "data": {
      "text/plain": "     year  month  date  longitude (degree: E+, W-)  latitude (degree: N+, S-)  \\\n0     NaN    NaN   NaN                         NaN                        NaN   \n1  2001.0   10.0  12.0                     -117.18                      32.42   \n2  2001.0   10.0  12.0                     -117.18                      31.54   \n3  2001.0   10.0  12.0                     -117.47                      30.60   \n4  2001.0   10.0  14.0                     -117.18                      29.10   \n\n   Level 0 (pieces/m3)  ratio (fragment<5 mm)  Level 1 (pieces/m3)  \\\n0                  NaN                    NaN                  NaN   \n1              0.00864                   0.83              0.00717   \n2              0.01190                   0.83              0.00988   \n3              0.00000                   0.83              0.00000   \n4              0.00000                   0.83              0.00000   \n\n   windspeed (m/s)  significant wave height (m)  Level 2p (pieces/km2)  \\\n0              NaN                          NaN                    NaN   \n1             3.78                         1.94                 7160.0   \n2             3.49                         2.06                 9670.0   \n3             4.80                         2.20                    0.0   \n4             3.55                         2.24                    0.0   \n\n  Level 2w1 (g/km2)  Level 2w2 (g/km2)  No. in Table 1  \n0     -999: No data                NaN             NaN  \n1          1.69E+02               4.60             1.0  \n2          2.29E+02               6.64             1.0  \n3          0.00E+00               0.00             1.0  \n4          0.00E+00               0.00             1.0  ",
      "text/html": "<div>\n<style scoped>\n    .dataframe tbody tr th:only-of-type {\n        vertical-align: middle;\n    }\n\n    .dataframe tbody tr th {\n        vertical-align: top;\n    }\n\n    .dataframe thead th {\n        text-align: right;\n    }\n</style>\n<table border=\"1\" class=\"dataframe\">\n  <thead>\n    <tr style=\"text-align: right;\">\n      <th></th>\n      <th>year</th>\n      <th>month</th>\n      <th>date</th>\n      <th>longitude (degree: E+, W-)</th>\n      <th>latitude (degree: N+, S-)</th>\n      <th>Level 0 (pieces/m3)</th>\n      <th>ratio (fragment&lt;5 mm)</th>\n      <th>Level 1 (pieces/m3)</th>\n      <th>windspeed (m/s)</th>\n      <th>significant wave height (m)</th>\n      <th>Level 2p (pieces/km2)</th>\n      <th>Level 2w1 (g/km2)</th>\n      <th>Level 2w2 (g/km2)</th>\n      <th>No. in Table 1</th>\n    </tr>\n  </thead>\n  <tbody>\n    <tr>\n      <th>0</th>\n      <td>NaN</td>\n      <td>NaN</td>\n      <td>NaN</td>\n      <td>NaN</td>\n      <td>NaN</td>\n      <td>NaN</td>\n      <td>NaN</td>\n      <td>NaN</td>\n      <td>NaN</td>\n      <td>NaN</td>\n      <td>NaN</td>\n      <td>-999: No data</td>\n      <td>NaN</td>\n      <td>NaN</td>\n    </tr>\n    <tr>\n      <th>1</th>\n      <td>2001.0</td>\n      <td>10.0</td>\n      <td>12.0</td>\n      <td>-117.18</td>\n      <td>32.42</td>\n      <td>0.00864</td>\n      <td>0.83</td>\n      <td>0.00717</td>\n      <td>3.78</td>\n      <td>1.94</td>\n      <td>7160.0</td>\n      <td>1.69E+02</td>\n      <td>4.60</td>\n      <td>1.0</td>\n    </tr>\n    <tr>\n      <th>2</th>\n      <td>2001.0</td>\n      <td>10.0</td>\n      <td>12.0</td>\n      <td>-117.18</td>\n      <td>31.54</td>\n      <td>0.01190</td>\n      <td>0.83</td>\n      <td>0.00988</td>\n      <td>3.49</td>\n      <td>2.06</td>\n      <td>9670.0</td>\n      <td>2.29E+02</td>\n      <td>6.64</td>\n      <td>1.0</td>\n    </tr>\n    <tr>\n      <th>3</th>\n      <td>2001.0</td>\n      <td>10.0</td>\n      <td>12.0</td>\n      <td>-117.47</td>\n      <td>30.60</td>\n      <td>0.00000</td>\n      <td>0.83</td>\n      <td>0.00000</td>\n      <td>4.80</td>\n      <td>2.20</td>\n      <td>0.0</td>\n      <td>0.00E+00</td>\n      <td>0.00</td>\n      <td>1.0</td>\n    </tr>\n    <tr>\n      <th>4</th>\n      <td>2001.0</td>\n      <td>10.0</td>\n      <td>14.0</td>\n      <td>-117.18</td>\n      <td>29.10</td>\n      <td>0.00000</td>\n      <td>0.83</td>\n      <td>0.00000</td>\n      <td>3.55</td>\n      <td>2.24</td>\n      <td>0.0</td>\n      <td>0.00E+00</td>\n      <td>0.00</td>\n      <td>1.0</td>\n    </tr>\n  </tbody>\n</table>\n</div>"
     },
     "execution_count": 85,
     "metadata": {},
     "output_type": "execute_result"
    }
   ],
   "source": [
    "df_art.head()"
   ],
   "metadata": {
    "collapsed": false,
    "pycharm": {
     "name": "#%%\n"
    }
   }
  },
  {
   "cell_type": "code",
   "execution_count": 86,
   "outputs": [],
   "source": [
    "df_art['latitude (degree: N+, S-)'] = df_art['latitude (degree: N+, S-)'].astype('float64')\n",
    "df_art.rename(columns={'latitude (degree: N+, S-)': 'latitude', 'longitude (degree: E+, W-)': 'longitude'}, inplace=True)"
   ],
   "metadata": {
    "collapsed": false,
    "pycharm": {
     "name": "#%%\n"
    }
   }
  },
  {
   "cell_type": "code",
   "execution_count": 87,
   "outputs": [
    {
     "data": {
      "text/plain": "array([    nan, 32.42  , 31.54  , ..., 82.4838, 81.5187, 81.1909])"
     },
     "execution_count": 87,
     "metadata": {},
     "output_type": "execute_result"
    }
   ],
   "source": [
    "df_art.latitude.unique()"
   ],
   "metadata": {
    "collapsed": false,
    "pycharm": {
     "name": "#%%\n"
    }
   }
  },
  {
   "cell_type": "code",
   "execution_count": 91,
   "outputs": [],
   "source": [
    "df_art.dropna(how='any', inplace=True)"
   ],
   "metadata": {
    "collapsed": false,
    "pycharm": {
     "name": "#%%\n"
    }
   }
  },
  {
   "cell_type": "code",
   "execution_count": 101,
   "outputs": [
    {
     "name": "stderr",
     "output_type": "stream",
     "text": [
      "/var/folders/8r/99r3254j0xq74zgjly2h4yv40000gp/T/ipykernel_59207/1860042692.py:7: FutureWarning: The pandas.np module is deprecated and will be removed from pandas in a future version. Import numpy directly instead.\n",
      "  a: pd.np.ndarray = df_art.latitude.unique()\n"
     ]
    }
   ],
   "source": [
    "# normalize latitude on df_art to rond to 0.5 degree\n",
    "def round_lat(lat):\n",
    "    return round(lat / 0.5) * 0.5\n",
    "\n",
    "\n",
    "df_art.latitude = df_art.latitude.apply(round_lat)\n",
    "a: pd.np.ndarray = df_art.latitude.unique()"
   ],
   "metadata": {
    "collapsed": false,
    "pycharm": {
     "name": "#%%\n"
    }
   }
  },
  {
   "cell_type": "code",
   "execution_count": 105,
   "outputs": [
    {
     "data": {
      "text/plain": "1       2001.0-10.0-12.0\n2       2001.0-10.0-12.0\n3       2001.0-10.0-12.0\n4       2001.0-10.0-14.0\n5       2001.0-10.0-15.0\n              ...       \n8214     2016.0-9.0-14.0\n8215     2016.0-9.0-15.0\n8216     2016.0-9.0-15.0\n8217     2016.0-9.0-16.0\n8218     2016.0-9.0-16.0\nName: time, Length: 8218, dtype: object"
     },
     "execution_count": 105,
     "metadata": {},
     "output_type": "execute_result"
    }
   ],
   "source": [
    "df_art['time'] = df_art['year'].astype('str') + '-' + df_art['month'].astype('str') + '-' + df_art['date'].astype('str')\n",
    "df_art['time']"
   ],
   "metadata": {
    "collapsed": false,
    "pycharm": {
     "name": "#%%\n"
    }
   }
  },
  {
   "cell_type": "code",
   "execution_count": 104,
   "outputs": [
    {
     "data": {
      "text/plain": "Empty DataFrame\nColumns: [time, depth, latitude, longitude, v, year, month, date, Level 0 (pieces/m3), ratio (fragment<5 mm), Level 1 (pieces/m3), windspeed (m/s), significant wave height (m), Level 2p (pieces/km2), Level 2w1 (g/km2), Level 2w2 (g/km2), No. in Table 1]\nIndex: []",
      "text/html": "<div>\n<style scoped>\n    .dataframe tbody tr th:only-of-type {\n        vertical-align: middle;\n    }\n\n    .dataframe tbody tr th {\n        vertical-align: top;\n    }\n\n    .dataframe thead th {\n        text-align: right;\n    }\n</style>\n<table border=\"1\" class=\"dataframe\">\n  <thead>\n    <tr style=\"text-align: right;\">\n      <th></th>\n      <th>time</th>\n      <th>depth</th>\n      <th>latitude</th>\n      <th>longitude</th>\n      <th>v</th>\n      <th>year</th>\n      <th>month</th>\n      <th>date</th>\n      <th>Level 0 (pieces/m3)</th>\n      <th>ratio (fragment&lt;5 mm)</th>\n      <th>Level 1 (pieces/m3)</th>\n      <th>windspeed (m/s)</th>\n      <th>significant wave height (m)</th>\n      <th>Level 2p (pieces/km2)</th>\n      <th>Level 2w1 (g/km2)</th>\n      <th>Level 2w2 (g/km2)</th>\n      <th>No. in Table 1</th>\n    </tr>\n  </thead>\n  <tbody>\n  </tbody>\n</table>\n</div>"
     },
     "execution_count": 104,
     "metadata": {},
     "output_type": "execute_result"
    }
   ],
   "source": [
    "# Compare the longitude of the ART data with the longitude of the precip data find the common longitudes and latitudes\n",
    "pd.merge(df_precip, df_art, on=['longitude', 'latitude','time'])"
   ],
   "metadata": {
    "collapsed": false,
    "pycharm": {
     "name": "#%%\n"
    }
   }
  },
  {
   "cell_type": "code",
   "execution_count": null,
   "outputs": [],
   "source": [],
   "metadata": {
    "collapsed": false,
    "pycharm": {
     "name": "#%%\n"
    }
   }
  }
 ],
 "metadata": {
  "kernelspec": {
   "display_name": "Python 3",
   "language": "python",
   "name": "python3"
  },
  "language_info": {
   "codemirror_mode": {
    "name": "ipython",
    "version": 2
   },
   "file_extension": ".py",
   "mimetype": "text/x-python",
   "name": "python",
   "nbconvert_exporter": "python",
   "pygments_lexer": "ipython2",
   "version": "2.7.6"
  }
 },
 "nbformat": 4,
 "nbformat_minor": 0
}