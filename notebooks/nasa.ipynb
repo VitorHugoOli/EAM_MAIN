{
 "cells": [
  {
   "cell_type": "code",
   "execution_count": 1,
   "metadata": {
    "collapsed": true,
    "pycharm": {
     "name": "#%%\n"
    }
   },
   "outputs": [],
   "source": [
    "import pandas as pd\n",
    "import xarray as xr\n",
    "\n",
    "sea_surferce = xr.open_dataset('../data/nasa/oscar_currents_final_20170402.nc').to_dataframe()\n",
    "\n",
    "sea_microplastic = xr.open_dataset('../data/nasa/cyg.ddmi.s20170402-000000-e20170430-000000.l3.grid-microplastic.a10.d10.nc',\n",
    "                                  decode_cf=False ).to_dataframe()"
   ]
  },
  {
   "cell_type": "code",
   "execution_count": 2,
   "outputs": [],
   "source": [
    "sea_microplastic.reset_index(inplace=True)\n",
    "sea_surferce.reset_index(inplace=True)"
   ],
   "metadata": {
    "collapsed": false,
    "pycharm": {
     "name": "#%%\n"
    }
   }
  },
  {
   "cell_type": "code",
   "execution_count": 3,
   "outputs": [],
   "source": [
    "sea_microplastic.time = pd.to_datetime(sea_microplastic.time, unit='s')"
   ],
   "metadata": {
    "collapsed": false,
    "pycharm": {
     "name": "#%%\n"
    }
   }
  },
  {
   "cell_type": "code",
   "execution_count": 4,
   "outputs": [
    {
     "data": {
      "text/plain": "               time   lat     lon  MP_concentration  stdev_MP_samples  \\\n0        2017-04-02  37.0    0.00      8.142307e+06        358.741061   \n1        2017-04-02  37.0    0.25      6.002672e+06        439.715346   \n2        2017-04-02  37.0    0.50      7.941298e+06        740.022435   \n3        2017-04-02  37.0    0.75      6.880114e+06       1506.872160   \n4        2017-04-02  37.0    1.00      4.051764e+06       4095.095158   \n...             ...   ...     ...               ...               ...   \n12402715 2017-04-30 -37.0  358.75      1.424278e+05        669.627001   \n12402716 2017-04-30 -37.0  359.00      1.433769e+05        633.132324   \n12402717 2017-04-30 -37.0  359.25      9.043513e+04        605.585256   \n12402718 2017-04-30 -37.0  359.50      7.366466e+04        551.845594   \n12402719 2017-04-30 -37.0  359.75      8.111532e+04        379.095101   \n\n          num_MP_samples  \n0                    149  \n1                    151  \n2                    144  \n3                    115  \n4                     97  \n...                  ...  \n12402715            1221  \n12402716             917  \n12402717             898  \n12402718             872  \n12402719             840  \n\n[12402720 rows x 6 columns]",
      "text/html": "<div>\n<style scoped>\n    .dataframe tbody tr th:only-of-type {\n        vertical-align: middle;\n    }\n\n    .dataframe tbody tr th {\n        vertical-align: top;\n    }\n\n    .dataframe thead th {\n        text-align: right;\n    }\n</style>\n<table border=\"1\" class=\"dataframe\">\n  <thead>\n    <tr style=\"text-align: right;\">\n      <th></th>\n      <th>time</th>\n      <th>lat</th>\n      <th>lon</th>\n      <th>MP_concentration</th>\n      <th>stdev_MP_samples</th>\n      <th>num_MP_samples</th>\n    </tr>\n  </thead>\n  <tbody>\n    <tr>\n      <th>0</th>\n      <td>2017-04-02</td>\n      <td>37.0</td>\n      <td>0.00</td>\n      <td>8.142307e+06</td>\n      <td>358.741061</td>\n      <td>149</td>\n    </tr>\n    <tr>\n      <th>1</th>\n      <td>2017-04-02</td>\n      <td>37.0</td>\n      <td>0.25</td>\n      <td>6.002672e+06</td>\n      <td>439.715346</td>\n      <td>151</td>\n    </tr>\n    <tr>\n      <th>2</th>\n      <td>2017-04-02</td>\n      <td>37.0</td>\n      <td>0.50</td>\n      <td>7.941298e+06</td>\n      <td>740.022435</td>\n      <td>144</td>\n    </tr>\n    <tr>\n      <th>3</th>\n      <td>2017-04-02</td>\n      <td>37.0</td>\n      <td>0.75</td>\n      <td>6.880114e+06</td>\n      <td>1506.872160</td>\n      <td>115</td>\n    </tr>\n    <tr>\n      <th>4</th>\n      <td>2017-04-02</td>\n      <td>37.0</td>\n      <td>1.00</td>\n      <td>4.051764e+06</td>\n      <td>4095.095158</td>\n      <td>97</td>\n    </tr>\n    <tr>\n      <th>...</th>\n      <td>...</td>\n      <td>...</td>\n      <td>...</td>\n      <td>...</td>\n      <td>...</td>\n      <td>...</td>\n    </tr>\n    <tr>\n      <th>12402715</th>\n      <td>2017-04-30</td>\n      <td>-37.0</td>\n      <td>358.75</td>\n      <td>1.424278e+05</td>\n      <td>669.627001</td>\n      <td>1221</td>\n    </tr>\n    <tr>\n      <th>12402716</th>\n      <td>2017-04-30</td>\n      <td>-37.0</td>\n      <td>359.00</td>\n      <td>1.433769e+05</td>\n      <td>633.132324</td>\n      <td>917</td>\n    </tr>\n    <tr>\n      <th>12402717</th>\n      <td>2017-04-30</td>\n      <td>-37.0</td>\n      <td>359.25</td>\n      <td>9.043513e+04</td>\n      <td>605.585256</td>\n      <td>898</td>\n    </tr>\n    <tr>\n      <th>12402718</th>\n      <td>2017-04-30</td>\n      <td>-37.0</td>\n      <td>359.50</td>\n      <td>7.366466e+04</td>\n      <td>551.845594</td>\n      <td>872</td>\n    </tr>\n    <tr>\n      <th>12402719</th>\n      <td>2017-04-30</td>\n      <td>-37.0</td>\n      <td>359.75</td>\n      <td>8.111532e+04</td>\n      <td>379.095101</td>\n      <td>840</td>\n    </tr>\n  </tbody>\n</table>\n<p>12402720 rows × 6 columns</p>\n</div>"
     },
     "execution_count": 4,
     "metadata": {},
     "output_type": "execute_result"
    }
   ],
   "source": [
    "sea_microplastic"
   ],
   "metadata": {
    "collapsed": false,
    "pycharm": {
     "name": "#%%\n"
    }
   }
  },
  {
   "cell_type": "code",
   "execution_count": 5,
   "outputs": [],
   "source": [
    "sea_surferce.time = sea_surferce.time.apply(lambda x: x.strftime('%Y-%m-%d'))"
   ],
   "metadata": {
    "collapsed": false,
    "pycharm": {
     "name": "#%%\n"
    }
   }
  },
  {
   "cell_type": "code",
   "execution_count": 6,
   "outputs": [],
   "source": [
    "sea_surferce.time = pd.to_datetime(sea_surferce.time)"
   ],
   "metadata": {
    "collapsed": false,
    "pycharm": {
     "name": "#%%\n"
    }
   }
  },
  {
   "cell_type": "code",
   "execution_count": 7,
   "outputs": [
    {
     "data": {
      "text/plain": "         latitude  longitude       time    lat     lon   u   v  ug  vg\n0               0          0 2017-04-02 -89.75    0.00 NaN NaN NaN NaN\n1               0          1 2017-04-02 -89.75    0.25 NaN NaN NaN NaN\n2               0          2 2017-04-02 -89.75    0.50 NaN NaN NaN NaN\n3               0          3 2017-04-02 -89.75    0.75 NaN NaN NaN NaN\n4               0          4 2017-04-02 -89.75    1.00 NaN NaN NaN NaN\n...           ...        ...        ...    ...     ...  ..  ..  ..  ..\n1035355       718       1435 2017-04-02  89.75  358.75 NaN NaN NaN NaN\n1035356       718       1436 2017-04-02  89.75  359.00 NaN NaN NaN NaN\n1035357       718       1437 2017-04-02  89.75  359.25 NaN NaN NaN NaN\n1035358       718       1438 2017-04-02  89.75  359.50 NaN NaN NaN NaN\n1035359       718       1439 2017-04-02  89.75  359.75 NaN NaN NaN NaN\n\n[1035360 rows x 9 columns]",
      "text/html": "<div>\n<style scoped>\n    .dataframe tbody tr th:only-of-type {\n        vertical-align: middle;\n    }\n\n    .dataframe tbody tr th {\n        vertical-align: top;\n    }\n\n    .dataframe thead th {\n        text-align: right;\n    }\n</style>\n<table border=\"1\" class=\"dataframe\">\n  <thead>\n    <tr style=\"text-align: right;\">\n      <th></th>\n      <th>latitude</th>\n      <th>longitude</th>\n      <th>time</th>\n      <th>lat</th>\n      <th>lon</th>\n      <th>u</th>\n      <th>v</th>\n      <th>ug</th>\n      <th>vg</th>\n    </tr>\n  </thead>\n  <tbody>\n    <tr>\n      <th>0</th>\n      <td>0</td>\n      <td>0</td>\n      <td>2017-04-02</td>\n      <td>-89.75</td>\n      <td>0.00</td>\n      <td>NaN</td>\n      <td>NaN</td>\n      <td>NaN</td>\n      <td>NaN</td>\n    </tr>\n    <tr>\n      <th>1</th>\n      <td>0</td>\n      <td>1</td>\n      <td>2017-04-02</td>\n      <td>-89.75</td>\n      <td>0.25</td>\n      <td>NaN</td>\n      <td>NaN</td>\n      <td>NaN</td>\n      <td>NaN</td>\n    </tr>\n    <tr>\n      <th>2</th>\n      <td>0</td>\n      <td>2</td>\n      <td>2017-04-02</td>\n      <td>-89.75</td>\n      <td>0.50</td>\n      <td>NaN</td>\n      <td>NaN</td>\n      <td>NaN</td>\n      <td>NaN</td>\n    </tr>\n    <tr>\n      <th>3</th>\n      <td>0</td>\n      <td>3</td>\n      <td>2017-04-02</td>\n      <td>-89.75</td>\n      <td>0.75</td>\n      <td>NaN</td>\n      <td>NaN</td>\n      <td>NaN</td>\n      <td>NaN</td>\n    </tr>\n    <tr>\n      <th>4</th>\n      <td>0</td>\n      <td>4</td>\n      <td>2017-04-02</td>\n      <td>-89.75</td>\n      <td>1.00</td>\n      <td>NaN</td>\n      <td>NaN</td>\n      <td>NaN</td>\n      <td>NaN</td>\n    </tr>\n    <tr>\n      <th>...</th>\n      <td>...</td>\n      <td>...</td>\n      <td>...</td>\n      <td>...</td>\n      <td>...</td>\n      <td>...</td>\n      <td>...</td>\n      <td>...</td>\n      <td>...</td>\n    </tr>\n    <tr>\n      <th>1035355</th>\n      <td>718</td>\n      <td>1435</td>\n      <td>2017-04-02</td>\n      <td>89.75</td>\n      <td>358.75</td>\n      <td>NaN</td>\n      <td>NaN</td>\n      <td>NaN</td>\n      <td>NaN</td>\n    </tr>\n    <tr>\n      <th>1035356</th>\n      <td>718</td>\n      <td>1436</td>\n      <td>2017-04-02</td>\n      <td>89.75</td>\n      <td>359.00</td>\n      <td>NaN</td>\n      <td>NaN</td>\n      <td>NaN</td>\n      <td>NaN</td>\n    </tr>\n    <tr>\n      <th>1035357</th>\n      <td>718</td>\n      <td>1437</td>\n      <td>2017-04-02</td>\n      <td>89.75</td>\n      <td>359.25</td>\n      <td>NaN</td>\n      <td>NaN</td>\n      <td>NaN</td>\n      <td>NaN</td>\n    </tr>\n    <tr>\n      <th>1035358</th>\n      <td>718</td>\n      <td>1438</td>\n      <td>2017-04-02</td>\n      <td>89.75</td>\n      <td>359.50</td>\n      <td>NaN</td>\n      <td>NaN</td>\n      <td>NaN</td>\n      <td>NaN</td>\n    </tr>\n    <tr>\n      <th>1035359</th>\n      <td>718</td>\n      <td>1439</td>\n      <td>2017-04-02</td>\n      <td>89.75</td>\n      <td>359.75</td>\n      <td>NaN</td>\n      <td>NaN</td>\n      <td>NaN</td>\n      <td>NaN</td>\n    </tr>\n  </tbody>\n</table>\n<p>1035360 rows × 9 columns</p>\n</div>"
     },
     "execution_count": 7,
     "metadata": {},
     "output_type": "execute_result"
    }
   ],
   "source": [
    "sea_surferce"
   ],
   "metadata": {
    "collapsed": false,
    "pycharm": {
     "name": "#%%\n"
    }
   }
  },
  {
   "cell_type": "code",
   "execution_count": 10,
   "outputs": [
    {
     "data": {
      "text/plain": "             time   lat     lon         u         v        ug        vg  \\\n0      2017-04-02 -37.0    0.00  0.047021 -0.118582  0.048551 -0.156574   \n1      2017-04-02 -37.0    0.25  0.025014 -0.101328  0.025305 -0.139278   \n2      2017-04-02 -37.0    0.50  0.007516 -0.041009  0.007431 -0.079920   \n3      2017-04-02 -37.0    0.75 -0.002129  0.059129 -0.001356  0.019361   \n4      2017-04-02 -37.0    1.00 -0.005274  0.149390 -0.004920  0.111028   \n...           ...   ...     ...       ...       ...       ...       ...   \n427675 2017-04-02  37.0  358.75 -0.025552 -0.060860 -0.022493 -0.059385   \n427676 2017-04-02  37.0  359.00 -0.005789 -0.103711 -0.004418 -0.103496   \n427677 2017-04-02  37.0  359.25 -0.003856 -0.137441 -0.003264 -0.138371   \n427678 2017-04-02  37.0  359.50 -0.011238 -0.135992 -0.011799 -0.135844   \n427679 2017-04-02  37.0  359.75 -0.018875 -0.095665 -0.020886 -0.094223   \n\n        MP_concentration  stdev_MP_samples  num_MP_samples  \n0           7.674302e+05        105.438815             533  \n1           8.058970e+05        141.690521             501  \n2           7.340737e+05        154.208858             488  \n3           5.379874e+05        389.446705             464  \n4           3.908790e+05        592.544665             429  \n...                  ...               ...             ...  \n427675      1.162185e+08        258.126342             125  \n427676      1.467700e+08        357.508697             155  \n427677      8.054956e+07        410.582070             153  \n427678      2.389635e+07        413.973273             141  \n427679      1.603701e+07        393.903370             160  \n\n[427680 rows x 10 columns]",
      "text/html": "<div>\n<style scoped>\n    .dataframe tbody tr th:only-of-type {\n        vertical-align: middle;\n    }\n\n    .dataframe tbody tr th {\n        vertical-align: top;\n    }\n\n    .dataframe thead th {\n        text-align: right;\n    }\n</style>\n<table border=\"1\" class=\"dataframe\">\n  <thead>\n    <tr style=\"text-align: right;\">\n      <th></th>\n      <th>time</th>\n      <th>lat</th>\n      <th>lon</th>\n      <th>u</th>\n      <th>v</th>\n      <th>ug</th>\n      <th>vg</th>\n      <th>MP_concentration</th>\n      <th>stdev_MP_samples</th>\n      <th>num_MP_samples</th>\n    </tr>\n  </thead>\n  <tbody>\n    <tr>\n      <th>0</th>\n      <td>2017-04-02</td>\n      <td>-37.0</td>\n      <td>0.00</td>\n      <td>0.047021</td>\n      <td>-0.118582</td>\n      <td>0.048551</td>\n      <td>-0.156574</td>\n      <td>7.674302e+05</td>\n      <td>105.438815</td>\n      <td>533</td>\n    </tr>\n    <tr>\n      <th>1</th>\n      <td>2017-04-02</td>\n      <td>-37.0</td>\n      <td>0.25</td>\n      <td>0.025014</td>\n      <td>-0.101328</td>\n      <td>0.025305</td>\n      <td>-0.139278</td>\n      <td>8.058970e+05</td>\n      <td>141.690521</td>\n      <td>501</td>\n    </tr>\n    <tr>\n      <th>2</th>\n      <td>2017-04-02</td>\n      <td>-37.0</td>\n      <td>0.50</td>\n      <td>0.007516</td>\n      <td>-0.041009</td>\n      <td>0.007431</td>\n      <td>-0.079920</td>\n      <td>7.340737e+05</td>\n      <td>154.208858</td>\n      <td>488</td>\n    </tr>\n    <tr>\n      <th>3</th>\n      <td>2017-04-02</td>\n      <td>-37.0</td>\n      <td>0.75</td>\n      <td>-0.002129</td>\n      <td>0.059129</td>\n      <td>-0.001356</td>\n      <td>0.019361</td>\n      <td>5.379874e+05</td>\n      <td>389.446705</td>\n      <td>464</td>\n    </tr>\n    <tr>\n      <th>4</th>\n      <td>2017-04-02</td>\n      <td>-37.0</td>\n      <td>1.00</td>\n      <td>-0.005274</td>\n      <td>0.149390</td>\n      <td>-0.004920</td>\n      <td>0.111028</td>\n      <td>3.908790e+05</td>\n      <td>592.544665</td>\n      <td>429</td>\n    </tr>\n    <tr>\n      <th>...</th>\n      <td>...</td>\n      <td>...</td>\n      <td>...</td>\n      <td>...</td>\n      <td>...</td>\n      <td>...</td>\n      <td>...</td>\n      <td>...</td>\n      <td>...</td>\n      <td>...</td>\n    </tr>\n    <tr>\n      <th>427675</th>\n      <td>2017-04-02</td>\n      <td>37.0</td>\n      <td>358.75</td>\n      <td>-0.025552</td>\n      <td>-0.060860</td>\n      <td>-0.022493</td>\n      <td>-0.059385</td>\n      <td>1.162185e+08</td>\n      <td>258.126342</td>\n      <td>125</td>\n    </tr>\n    <tr>\n      <th>427676</th>\n      <td>2017-04-02</td>\n      <td>37.0</td>\n      <td>359.00</td>\n      <td>-0.005789</td>\n      <td>-0.103711</td>\n      <td>-0.004418</td>\n      <td>-0.103496</td>\n      <td>1.467700e+08</td>\n      <td>357.508697</td>\n      <td>155</td>\n    </tr>\n    <tr>\n      <th>427677</th>\n      <td>2017-04-02</td>\n      <td>37.0</td>\n      <td>359.25</td>\n      <td>-0.003856</td>\n      <td>-0.137441</td>\n      <td>-0.003264</td>\n      <td>-0.138371</td>\n      <td>8.054956e+07</td>\n      <td>410.582070</td>\n      <td>153</td>\n    </tr>\n    <tr>\n      <th>427678</th>\n      <td>2017-04-02</td>\n      <td>37.0</td>\n      <td>359.50</td>\n      <td>-0.011238</td>\n      <td>-0.135992</td>\n      <td>-0.011799</td>\n      <td>-0.135844</td>\n      <td>2.389635e+07</td>\n      <td>413.973273</td>\n      <td>141</td>\n    </tr>\n    <tr>\n      <th>427679</th>\n      <td>2017-04-02</td>\n      <td>37.0</td>\n      <td>359.75</td>\n      <td>-0.018875</td>\n      <td>-0.095665</td>\n      <td>-0.020886</td>\n      <td>-0.094223</td>\n      <td>1.603701e+07</td>\n      <td>393.903370</td>\n      <td>160</td>\n    </tr>\n  </tbody>\n</table>\n<p>427680 rows × 10 columns</p>\n</div>"
     },
     "execution_count": 10,
     "metadata": {},
     "output_type": "execute_result"
    }
   ],
   "source": [
    "pd.merge(sea_surferce, sea_microplastic, on=['time', 'lat', 'lon']).drop(['latitude', 'longitude'], axis=1)"
   ],
   "metadata": {
    "collapsed": false,
    "pycharm": {
     "name": "#%%\n"
    }
   }
  },
  {
   "cell_type": "code",
   "execution_count": null,
   "outputs": [],
   "source": [
    "# lat, long, date -> [modelo 1] = u\n",
    "# lat, long, date -> [modelo 2] = v\n",
    "# lat, long, date, u, v -> [modelo 3] = microplastic\n",
    "\n",
    "# Dataset 1 - Ocean Surface Currents:\n",
    "# https://search.earthdata.nasa.gov/search/granules/collection-details?p=C2098858642-POCLOUD&pg[0][v]=f&pg[0][gsk]=-start_date&tl=1647902537.793!3!!&fs10=Ocean%20Currents&fsm0=Ocean%20Circulation&fst0=Oceans&m=-21.297179625649704!-124.31249999999999!0!1!0!0%2C2\n",
    "\n",
    "# Train: 2016 - 2020\n",
    "# Validation: 2021\n"
   ],
   "metadata": {
    "collapsed": false,
    "pycharm": {
     "name": "#%%\n"
    }
   }
  }
 ],
 "metadata": {
  "kernelspec": {
   "display_name": "Python 3",
   "language": "python",
   "name": "python3"
  },
  "language_info": {
   "codemirror_mode": {
    "name": "ipython",
    "version": 2
   },
   "file_extension": ".py",
   "mimetype": "text/x-python",
   "name": "python",
   "nbconvert_exporter": "python",
   "pygments_lexer": "ipython2",
   "version": "2.7.6"
  }
 },
 "nbformat": 4,
 "nbformat_minor": 0
}