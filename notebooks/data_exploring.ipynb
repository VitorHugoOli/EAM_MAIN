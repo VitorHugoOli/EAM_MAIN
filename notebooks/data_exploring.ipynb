{
 "cells": [
  {
   "cell_type": "code",
   "execution_count": 3,
   "outputs": [],
   "source": [
    "from itertools import count\n",
    "\n",
    "import pandas as pd\n",
    "from IPython.core.display_functions import display"
   ],
   "metadata": {
    "collapsed": false,
    "pycharm": {
     "name": "#%%\n"
    }
   }
  },
  {
   "cell_type": "code",
   "execution_count": 4,
   "outputs": [],
   "source": [
    "df_A = pd.read_csv('../data/AdventureScientist.csv')\n",
    "df_geo = pd.read_csv('../data/GEOMAR.csv')\n",
    "df_Se = pd.read_csv('../data/SEA.csv')"
   ],
   "metadata": {
    "collapsed": false,
    "pycharm": {
     "name": "#%%\n"
    }
   }
  },
  {
   "cell_type": "code",
   "execution_count": 5,
   "outputs": [
    {
     "data": {
      "text/plain": "   OBJECTID Sample_Date   Latitude   Longitude  Total_Pieces_L  Normalized\n0         1  2013-06-30  59.378683 -153.520867               1    0.003096\n1         2  2013-06-30  59.368133 -153.552333               1    0.003096\n2         3  2013-06-30  59.341467 -153.549767              14    0.043344\n3         4  2013-06-30  59.638717 -153.395667              17    0.052632\n4         5  2013-06-30  59.373600 -153.448067              71    0.219814",
      "text/html": "<div>\n<style scoped>\n    .dataframe tbody tr th:only-of-type {\n        vertical-align: middle;\n    }\n\n    .dataframe tbody tr th {\n        vertical-align: top;\n    }\n\n    .dataframe thead th {\n        text-align: right;\n    }\n</style>\n<table border=\"1\" class=\"dataframe\">\n  <thead>\n    <tr style=\"text-align: right;\">\n      <th></th>\n      <th>OBJECTID</th>\n      <th>Sample_Date</th>\n      <th>Latitude</th>\n      <th>Longitude</th>\n      <th>Total_Pieces_L</th>\n      <th>Normalized</th>\n    </tr>\n  </thead>\n  <tbody>\n    <tr>\n      <th>0</th>\n      <td>1</td>\n      <td>2013-06-30</td>\n      <td>59.378683</td>\n      <td>-153.520867</td>\n      <td>1</td>\n      <td>0.003096</td>\n    </tr>\n    <tr>\n      <th>1</th>\n      <td>2</td>\n      <td>2013-06-30</td>\n      <td>59.368133</td>\n      <td>-153.552333</td>\n      <td>1</td>\n      <td>0.003096</td>\n    </tr>\n    <tr>\n      <th>2</th>\n      <td>3</td>\n      <td>2013-06-30</td>\n      <td>59.341467</td>\n      <td>-153.549767</td>\n      <td>14</td>\n      <td>0.043344</td>\n    </tr>\n    <tr>\n      <th>3</th>\n      <td>4</td>\n      <td>2013-06-30</td>\n      <td>59.638717</td>\n      <td>-153.395667</td>\n      <td>17</td>\n      <td>0.052632</td>\n    </tr>\n    <tr>\n      <th>4</th>\n      <td>5</td>\n      <td>2013-06-30</td>\n      <td>59.373600</td>\n      <td>-153.448067</td>\n      <td>71</td>\n      <td>0.219814</td>\n    </tr>\n  </tbody>\n</table>\n</div>"
     },
     "execution_count": 5,
     "metadata": {},
     "output_type": "execute_result"
    }
   ],
   "source": [
    "df_A.head()"
   ],
   "metadata": {
    "collapsed": false,
    "pycharm": {
     "name": "#%%\n"
    }
   }
  },
  {
   "cell_type": "code",
   "execution_count": 6,
   "outputs": [
    {
     "data": {
      "text/plain": "   OBJECTID Sample_Date   Latitude  Longitude  \\\n0         1  2017-09-30  38.335844  -9.250058   \n1         2  2017-09-30  36.796376  -7.944142   \n2         3  2017-09-30  36.707197  -2.737703   \n3         4  2017-10-22  36.116504  -4.254036   \n4         5  2017-10-24  35.392750 -12.180278   \n\n   MP_conc__particles_cubic_metre_  Normalized  \n0                              180    0.515759  \n1                              307    0.879656  \n2                              280    0.802292  \n3                              212    0.607450  \n4                               63    0.180516  ",
      "text/html": "<div>\n<style scoped>\n    .dataframe tbody tr th:only-of-type {\n        vertical-align: middle;\n    }\n\n    .dataframe tbody tr th {\n        vertical-align: top;\n    }\n\n    .dataframe thead th {\n        text-align: right;\n    }\n</style>\n<table border=\"1\" class=\"dataframe\">\n  <thead>\n    <tr style=\"text-align: right;\">\n      <th></th>\n      <th>OBJECTID</th>\n      <th>Sample_Date</th>\n      <th>Latitude</th>\n      <th>Longitude</th>\n      <th>MP_conc__particles_cubic_metre_</th>\n      <th>Normalized</th>\n    </tr>\n  </thead>\n  <tbody>\n    <tr>\n      <th>0</th>\n      <td>1</td>\n      <td>2017-09-30</td>\n      <td>38.335844</td>\n      <td>-9.250058</td>\n      <td>180</td>\n      <td>0.515759</td>\n    </tr>\n    <tr>\n      <th>1</th>\n      <td>2</td>\n      <td>2017-09-30</td>\n      <td>36.796376</td>\n      <td>-7.944142</td>\n      <td>307</td>\n      <td>0.879656</td>\n    </tr>\n    <tr>\n      <th>2</th>\n      <td>3</td>\n      <td>2017-09-30</td>\n      <td>36.707197</td>\n      <td>-2.737703</td>\n      <td>280</td>\n      <td>0.802292</td>\n    </tr>\n    <tr>\n      <th>3</th>\n      <td>4</td>\n      <td>2017-10-22</td>\n      <td>36.116504</td>\n      <td>-4.254036</td>\n      <td>212</td>\n      <td>0.607450</td>\n    </tr>\n    <tr>\n      <th>4</th>\n      <td>5</td>\n      <td>2017-10-24</td>\n      <td>35.392750</td>\n      <td>-12.180278</td>\n      <td>63</td>\n      <td>0.180516</td>\n    </tr>\n  </tbody>\n</table>\n</div>"
     },
     "execution_count": 6,
     "metadata": {},
     "output_type": "execute_result"
    }
   ],
   "source": [
    "df_geo.head()"
   ],
   "metadata": {
    "collapsed": false,
    "pycharm": {
     "name": "#%%\n"
    }
   }
  },
  {
   "cell_type": "code",
   "execution_count": 7,
   "outputs": [
    {
     "data": {
      "text/plain": "   OBJECTID Sample_Date  Lat_deg_  Long_deg_  Pieces_KM2  Normalized\n0         1  2004-11-08     13.88     -61.71           0           0\n1         2  2004-11-03     14.54     -60.61           0           0\n2         3  1997-11-10     16.07     -61.95           0           0\n3         4  1996-12-24     18.10     -78.53           0           0\n4         5  2004-10-23     28.63     -58.22           0           0",
      "text/html": "<div>\n<style scoped>\n    .dataframe tbody tr th:only-of-type {\n        vertical-align: middle;\n    }\n\n    .dataframe tbody tr th {\n        vertical-align: top;\n    }\n\n    .dataframe thead th {\n        text-align: right;\n    }\n</style>\n<table border=\"1\" class=\"dataframe\">\n  <thead>\n    <tr style=\"text-align: right;\">\n      <th></th>\n      <th>OBJECTID</th>\n      <th>Sample_Date</th>\n      <th>Lat_deg_</th>\n      <th>Long_deg_</th>\n      <th>Pieces_KM2</th>\n      <th>Normalized</th>\n    </tr>\n  </thead>\n  <tbody>\n    <tr>\n      <th>0</th>\n      <td>1</td>\n      <td>2004-11-08</td>\n      <td>13.88</td>\n      <td>-61.71</td>\n      <td>0</td>\n      <td>0</td>\n    </tr>\n    <tr>\n      <th>1</th>\n      <td>2</td>\n      <td>2004-11-03</td>\n      <td>14.54</td>\n      <td>-60.61</td>\n      <td>0</td>\n      <td>0</td>\n    </tr>\n    <tr>\n      <th>2</th>\n      <td>3</td>\n      <td>1997-11-10</td>\n      <td>16.07</td>\n      <td>-61.95</td>\n      <td>0</td>\n      <td>0</td>\n    </tr>\n    <tr>\n      <th>3</th>\n      <td>4</td>\n      <td>1996-12-24</td>\n      <td>18.10</td>\n      <td>-78.53</td>\n      <td>0</td>\n      <td>0</td>\n    </tr>\n    <tr>\n      <th>4</th>\n      <td>5</td>\n      <td>2004-10-23</td>\n      <td>28.63</td>\n      <td>-58.22</td>\n      <td>0</td>\n      <td>0</td>\n    </tr>\n  </tbody>\n</table>\n</div>"
     },
     "execution_count": 7,
     "metadata": {},
     "output_type": "execute_result"
    }
   ],
   "source": [
    "df_Se.head()"
   ],
   "metadata": {
    "collapsed": false,
    "pycharm": {
     "name": "#%%\n"
    }
   }
  },
  {
   "cell_type": "code",
   "execution_count": 8,
   "outputs": [
    {
     "data": {
      "text/plain": "1393"
     },
     "metadata": {},
     "output_type": "display_data"
    },
    {
     "data": {
      "text/plain": "84"
     },
     "metadata": {},
     "output_type": "display_data"
    },
    {
     "data": {
      "text/plain": "7755"
     },
     "metadata": {},
     "output_type": "display_data"
    },
    {
     "data": {
      "text/plain": "9232"
     },
     "metadata": {},
     "output_type": "display_data"
    }
   ],
   "source": [
    "# Display len\n",
    "display(len(df_A))\n",
    "display(len(df_geo))\n",
    "display(len(df_Se))\n",
    "\n",
    "# Sum len\n",
    "display(len(df_A) + len(df_Se) + len(df_geo))"
   ],
   "metadata": {
    "collapsed": false,
    "pycharm": {
     "name": "#%%\n"
    }
   }
  },
  {
   "cell_type": "code",
   "execution_count": 9,
   "outputs": [],
   "source": [
    "# Rename Latitude and Longitude to Lat and Lon\n",
    "df_A.rename(columns={'Latitude':'Lat', 'Longitude':'Lon'}, inplace=True)\n",
    "df_geo.rename(columns={'Latitude':'Lat', 'Longitude':'Lon'}, inplace=True)\n",
    "df_Se.rename(columns={'Lat_deg_':'Lat', 'Long_deg_':'Lon'}, inplace=True)\n",
    "\n",
    "# Rename Normalized from each dataframe\n",
    "df_A.rename(columns={'Normalized':'Normalized_L'}, inplace=True)\n",
    "df_geo.rename(columns={'Normalized':'Normalized_MP'}, inplace=True)\n",
    "df_Se.rename(columns={'Normalized':'Normalized_KM2'}, inplace=True)"
   ],
   "metadata": {
    "collapsed": false,
    "pycharm": {
     "name": "#%%\n"
    }
   }
  },
  {
   "cell_type": "code",
   "execution_count": 10,
   "outputs": [],
   "source": [
    "df = pd.concat([df_A, df_geo, df_Se], ignore_index=True)"
   ],
   "metadata": {
    "collapsed": false,
    "pycharm": {
     "name": "#%%\n"
    }
   }
  },
  {
   "cell_type": "code",
   "execution_count": 11,
   "outputs": [
    {
     "data": {
      "text/plain": "count    9232.000000\nmean       24.030743\nstd        15.328418\nmin       -65.177500\n25%        17.081000\n50%        24.430000\n75%        32.760000\nmax        81.090000\nName: Lat, dtype: float64"
     },
     "execution_count": 11,
     "metadata": {},
     "output_type": "execute_result"
    }
   ],
   "source": [
    "df.Lat.describe()"
   ],
   "metadata": {
    "collapsed": false,
    "pycharm": {
     "name": "#%%\n"
    }
   }
  },
  {
   "cell_type": "code",
   "execution_count": 12,
   "outputs": [
    {
     "data": {
      "text/plain": "      OBJECTID Sample_Date        Lat         Lon  Total_Pieces_L  \\\n0            1  2013-06-30  59.378683 -153.520867             1.0   \n1            2  2013-06-30  59.368133 -153.552333             1.0   \n2            3  2013-06-30  59.341467 -153.549767            14.0   \n3            4  2013-06-30  59.638717 -153.395667            17.0   \n4            5  2013-06-30  59.373600 -153.448067            71.0   \n...        ...         ...        ...         ...             ...   \n9227      7751  2002-07-11  57.140000 -134.050000             NaN   \n9228      7752  2002-07-12  57.220000 -136.230000             NaN   \n9229      7753  2002-07-12  57.300000 -136.210000             NaN   \n9230      7754  2002-07-10  57.460000 -133.770000             NaN   \n9231      7755  2002-07-11  57.510000 -135.180000             NaN   \n\n      Normalized_L  MP_conc__particles_cubic_metre_  Normalized_MP  \\\n0         0.003096                              NaN            NaN   \n1         0.003096                              NaN            NaN   \n2         0.043344                              NaN            NaN   \n3         0.052632                              NaN            NaN   \n4         0.219814                              NaN            NaN   \n...            ...                              ...            ...   \n9227           NaN                              NaN            NaN   \n9228           NaN                              NaN            NaN   \n9229           NaN                              NaN            NaN   \n9230           NaN                              NaN            NaN   \n9231           NaN                              NaN            NaN   \n\n      Pieces_KM2  Normalized_KM2  \n0            NaN             NaN  \n1            NaN             NaN  \n2            NaN             NaN  \n3            NaN             NaN  \n4            NaN             NaN  \n...          ...             ...  \n9227         0.0             0.0  \n9228         0.0             0.0  \n9229         0.0             0.0  \n9230         0.0             0.0  \n9231         0.0             0.0  \n\n[9203 rows x 10 columns]",
      "text/html": "<div>\n<style scoped>\n    .dataframe tbody tr th:only-of-type {\n        vertical-align: middle;\n    }\n\n    .dataframe tbody tr th {\n        vertical-align: top;\n    }\n\n    .dataframe thead th {\n        text-align: right;\n    }\n</style>\n<table border=\"1\" class=\"dataframe\">\n  <thead>\n    <tr style=\"text-align: right;\">\n      <th></th>\n      <th>OBJECTID</th>\n      <th>Sample_Date</th>\n      <th>Lat</th>\n      <th>Lon</th>\n      <th>Total_Pieces_L</th>\n      <th>Normalized_L</th>\n      <th>MP_conc__particles_cubic_metre_</th>\n      <th>Normalized_MP</th>\n      <th>Pieces_KM2</th>\n      <th>Normalized_KM2</th>\n    </tr>\n  </thead>\n  <tbody>\n    <tr>\n      <th>0</th>\n      <td>1</td>\n      <td>2013-06-30</td>\n      <td>59.378683</td>\n      <td>-153.520867</td>\n      <td>1.0</td>\n      <td>0.003096</td>\n      <td>NaN</td>\n      <td>NaN</td>\n      <td>NaN</td>\n      <td>NaN</td>\n    </tr>\n    <tr>\n      <th>1</th>\n      <td>2</td>\n      <td>2013-06-30</td>\n      <td>59.368133</td>\n      <td>-153.552333</td>\n      <td>1.0</td>\n      <td>0.003096</td>\n      <td>NaN</td>\n      <td>NaN</td>\n      <td>NaN</td>\n      <td>NaN</td>\n    </tr>\n    <tr>\n      <th>2</th>\n      <td>3</td>\n      <td>2013-06-30</td>\n      <td>59.341467</td>\n      <td>-153.549767</td>\n      <td>14.0</td>\n      <td>0.043344</td>\n      <td>NaN</td>\n      <td>NaN</td>\n      <td>NaN</td>\n      <td>NaN</td>\n    </tr>\n    <tr>\n      <th>3</th>\n      <td>4</td>\n      <td>2013-06-30</td>\n      <td>59.638717</td>\n      <td>-153.395667</td>\n      <td>17.0</td>\n      <td>0.052632</td>\n      <td>NaN</td>\n      <td>NaN</td>\n      <td>NaN</td>\n      <td>NaN</td>\n    </tr>\n    <tr>\n      <th>4</th>\n      <td>5</td>\n      <td>2013-06-30</td>\n      <td>59.373600</td>\n      <td>-153.448067</td>\n      <td>71.0</td>\n      <td>0.219814</td>\n      <td>NaN</td>\n      <td>NaN</td>\n      <td>NaN</td>\n      <td>NaN</td>\n    </tr>\n    <tr>\n      <th>...</th>\n      <td>...</td>\n      <td>...</td>\n      <td>...</td>\n      <td>...</td>\n      <td>...</td>\n      <td>...</td>\n      <td>...</td>\n      <td>...</td>\n      <td>...</td>\n      <td>...</td>\n    </tr>\n    <tr>\n      <th>9227</th>\n      <td>7751</td>\n      <td>2002-07-11</td>\n      <td>57.140000</td>\n      <td>-134.050000</td>\n      <td>NaN</td>\n      <td>NaN</td>\n      <td>NaN</td>\n      <td>NaN</td>\n      <td>0.0</td>\n      <td>0.0</td>\n    </tr>\n    <tr>\n      <th>9228</th>\n      <td>7752</td>\n      <td>2002-07-12</td>\n      <td>57.220000</td>\n      <td>-136.230000</td>\n      <td>NaN</td>\n      <td>NaN</td>\n      <td>NaN</td>\n      <td>NaN</td>\n      <td>0.0</td>\n      <td>0.0</td>\n    </tr>\n    <tr>\n      <th>9229</th>\n      <td>7753</td>\n      <td>2002-07-12</td>\n      <td>57.300000</td>\n      <td>-136.210000</td>\n      <td>NaN</td>\n      <td>NaN</td>\n      <td>NaN</td>\n      <td>NaN</td>\n      <td>0.0</td>\n      <td>0.0</td>\n    </tr>\n    <tr>\n      <th>9230</th>\n      <td>7754</td>\n      <td>2002-07-10</td>\n      <td>57.460000</td>\n      <td>-133.770000</td>\n      <td>NaN</td>\n      <td>NaN</td>\n      <td>NaN</td>\n      <td>NaN</td>\n      <td>0.0</td>\n      <td>0.0</td>\n    </tr>\n    <tr>\n      <th>9231</th>\n      <td>7755</td>\n      <td>2002-07-11</td>\n      <td>57.510000</td>\n      <td>-135.180000</td>\n      <td>NaN</td>\n      <td>NaN</td>\n      <td>NaN</td>\n      <td>NaN</td>\n      <td>0.0</td>\n      <td>0.0</td>\n    </tr>\n  </tbody>\n</table>\n<p>9203 rows × 10 columns</p>\n</div>"
     },
     "execution_count": 12,
     "metadata": {},
     "output_type": "execute_result"
    }
   ],
   "source": [
    "df[(df['Lat'] > -66) & (df['Lat'] < 66) & (df['Lon'] > -180) & (df['Lon'] < 180)]"
   ],
   "metadata": {
    "collapsed": false,
    "pycharm": {
     "name": "#%%\n"
    }
   }
  },
  {
   "cell_type": "code",
   "execution_count": 12,
   "outputs": [],
   "source": [],
   "metadata": {
    "collapsed": false,
    "pycharm": {
     "name": "#%%\n"
    }
   }
  }
 ],
 "metadata": {
  "kernelspec": {
   "display_name": "Python 3",
   "language": "python",
   "name": "python3"
  },
  "language_info": {
   "codemirror_mode": {
    "name": "ipython",
    "version": 2
   },
   "file_extension": ".py",
   "mimetype": "text/x-python",
   "name": "python",
   "nbconvert_exporter": "python",
   "pygments_lexer": "ipython2",
   "version": "2.7.6"
  }
 },
 "nbformat": 4,
 "nbformat_minor": 0
}