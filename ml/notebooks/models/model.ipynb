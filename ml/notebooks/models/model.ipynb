{
 "cells": [
  {
   "cell_type": "code",
   "execution_count": 2,
   "metadata": {
    "collapsed": true
   },
   "outputs": [],
   "source": [
    "import dask.dataframe as dd\n",
    "from sklearn.model_selection import train_test_split\n",
    "from dask_ml.preprocessing import OneHotEncoder\n",
    "from sklearn.metrics import mean_absolute_error\n",
    "import xgboost as xgb\n",
    "\n",
    "ddf: dd = dd.read_parquet('../../data/merge/mp_current_new_feat.parquet')"
   ]
  },
  {
   "cell_type": "code",
   "execution_count": null,
   "outputs": [],
   "source": [
    "ddf.reset_index(inplace=True)\n",
    "ddf.drop(['latitude', 'longitude', 'ug', 'vg'], axis=1, inplace=True)\n",
    "ddf = ddf[ddf['u'].isnull() == False]\n",
    "ddf = ddf[ddf['u'] != -999.0]\n",
    "ddf['time'] = ddf['time'].astype('string')\n",
    "ddf['time'] = ddf.to_datetime(ddf['time'], errors='coerce')\n",
    "ddf: dd = ddf.dropna(subset=['time'])"
   ],
   "metadata": {
    "collapsed": false,
    "pycharm": {
     "name": "#%%\n"
    }
   }
  },
  {
   "cell_type": "code",
   "execution_count": null,
   "outputs": [],
   "source": [
    "colsFloat = ['lat', 'lon', 'u', 'v']\n",
    "for col in colsFloat:\n",
    "    ddf[col] = ddf[col].astype('float16')"
   ],
   "metadata": {
    "collapsed": false,
    "pycharm": {
     "name": "#%%\n"
    }
   }
  },
  {
   "cell_type": "code",
   "execution_count": null,
   "outputs": [],
   "source": [
    "## encode oceans using one-hot encoding (dask)\n",
    "ddf['ocean'] = ddf['ocean'].astype('category')\n",
    "enc = OneHotEncoder(handle_unknown='ignore')\n",
    "ddf['ocean'] = enc.fit_transform(ddf['ocean'].values.reshape(-1, 1))"
   ],
   "metadata": {
    "collapsed": false,
    "pycharm": {
     "name": "#%%\n"
    }
   }
  },
  {
   "cell_type": "code",
   "execution_count": null,
   "outputs": [],
   "source": [
    "df = ddf.compute()"
   ],
   "metadata": {
    "collapsed": false,
    "pycharm": {
     "name": "#%%\n"
    }
   }
  },
  {
   "cell_type": "code",
   "execution_count": null,
   "outputs": [],
   "source": [
    "cols = ['lat', 'lon', 'num_MP_samples', 'u', 'v', 'ug', 'vg', 'ocean_0', 'ocean_1', 'ocean_2']\n",
    "xTrain, xTest, yTrain, yTest = train_test_split(df[cols], df[\"MP_concentration\"], test_size=0.2, random_state=0)"
   ],
   "metadata": {
    "collapsed": false,
    "pycharm": {
     "name": "#%%\n"
    }
   }
  },
  {
   "cell_type": "code",
   "execution_count": null,
   "outputs": [],
   "source": [
    "model = xgb.XGBRegressor()\n",
    "model.fit(xTrain, yTrain)\n",
    "predicao = model.predict(xTest)"
   ],
   "metadata": {
    "collapsed": false,
    "pycharm": {
     "name": "#%%\n"
    }
   }
  },
  {
   "cell_type": "code",
   "execution_count": null,
   "outputs": [],
   "source": [
    "mae = mean_absolute_error(predicao, yTest)\n",
    "mae"
   ],
   "metadata": {
    "collapsed": false,
    "pycharm": {
     "name": "#%%\n"
    }
   }
  },
  {
   "cell_type": "markdown",
   "source": [],
   "metadata": {
    "collapsed": false
   }
  }
 ],
 "metadata": {
  "kernelspec": {
   "display_name": "Python 3",
   "language": "python",
   "name": "python3"
  },
  "language_info": {
   "codemirror_mode": {
    "name": "ipython",
    "version": 2
   },
   "file_extension": ".py",
   "mimetype": "text/x-python",
   "name": "python",
   "nbconvert_exporter": "python",
   "pygments_lexer": "ipython2",
   "version": "2.7.6"
  }
 },
 "nbformat": 4,
 "nbformat_minor": 0
}