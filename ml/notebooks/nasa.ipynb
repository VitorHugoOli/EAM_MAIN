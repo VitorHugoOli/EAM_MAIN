{
 "cells": [
  {
   "cell_type": "markdown",
   "source": [
    "# Overview\n",
    "This notebook intends to create a model that can be used to predict the concentration of microplastics, given the latitude, longitude and timestamp. For this your group will create 3 different models:\n",
    " - model 1: To predict the horizontal velocity(u) vector od the given latitude and longitude\n",
    " - model 2: To predict the vertical velocity(v) vector of the given latitude and longitude\n",
    " - model 3: To predict the concentration of microplastics of the given latitude, longitude, u, v and timestamp\n",
    "\n",
    "## Data Explanation\n",
    "The data using in this notebook was obtained from the [EARTHDATA](https://gpm.gsfc.nasa.gov/data/).\n",
    "And all data was provide in the form of a netCDF file.\n",
    "\n",
    "### Ocean Currents\n",
    "This dataset describes the ocean currents at the surface of the Earth, between 01/01/1993 and 01/01/2021.\n",
    "Link to the dataset: [Ocean Surface Current Analyses Real-time](https://search.earthdata.nasa.gov/search/granules?p=C2098858642-POCLOUD&pg[0][v]=f&pg[0][gsk]=-start_date&tl=1648086157.373!3!!&fs10=Ocean%20Currents&fsm0=Ocean%20Circulation&fst0=Oceans)\n",
    "Documentation: [Ocean Currents](https://podaac-tools.jpl.nasa.gov/drive/files/allData/oscar/L4/oscar_v2.0/docs/oscarv2guide.pdf)\n",
    "Download: [Ocean Currents](https://search.earthdata.nasa.gov/downloads/5030564349)\n",
    "\n",
    "#### Ranges\n",
    "The data covers -89.75° to 89.75° latitude and 0° to 359.75° longitude\n",
    "01/01/1993 and 01/01/2021.\n",
    "\n",
    "#### Usage\n",
    "For the usage we catch data from 2010 to 2021.\n",
    "\n",
    "\n",
    "### Microplastics\n",
    "This dataset describes the concentration of microplastics in the ocean.\n",
    "\n",
    "Link to the dataset: [CYGNSS L3 Ocean Microplastic Concentration V1.0](https://search.earthdata.nasa.gov/search/granules/collection-details?p=C2142677420-POCLOUD&pg[0][v]=f&pg[0][gsk]=-start_date&tl=1648079405.876!3!!&fsm0=Water%20Quality&fst0=Oceans)\n",
    "Documentation: [Microplastics Doc](https://podaac-tools.jpl.nasa.gov/drive/files/allData/cygnss/L3/docs/148-0402-1_L3_Microplsatic_ATBD_Released.pdf)\n",
    "Data Description: [Microplastics Data Description](https://podaac-tools.jpl.nasa.gov/drive/files/allData/cygnss/L3/docs/148-0401-2_L3_Microplastic_netCDF_Data_Dictionary.xlsx)\n",
    "Download: [Microplastics Data](https://search.earthdata.nasa.gov/downloads/9368584333)\n",
    "\n",
    "#### Columns\n",
    "- **MP_concentration(Microplastic Concentration):**\n",
    "  Near-surface ocean microplastic number density geometrically averaged over the 1 x 1 degree cell centered on lat and lon and averaged over one month centered on Timestamp, as derived from anomalies in CYGNSS L2 MSS samples.\n",
    "\n",
    "- **stdev_MP_samples(Geometric standard deviation of microplastic concentration samples within spatiotemporal bin):**\n",
    "  The geometric standard deviation of the individual samples of microplastic concentration geometrically averaged together to produce the monthly 1x1 deg L3 gridded product.\n",
    "\n",
    "- **num_MP_samples(Number of microplastic concentration samples within spatiotemporal bin):**\n",
    "  The number of individual samples of microplastic concentration geometrically averaged together to produce the monthly 1x1 deg L3 gridded product.\n",
    "\n",
    "#### Ranges\n",
    "The data covers -37° to 37° latitude and 0° to 359.75° longitude\n",
    "The data covers the dates between 02/04/2017 and 25/09/2018\n",
    "\n",
    "#### Usage\n",
    "For the usage we catch all the data.\n"
   ],
   "metadata": {
    "collapsed": false,
    "pycharm": {
     "name": "#%% md\n"
    }
   }
  }
 ],
 "metadata": {
  "kernelspec": {
   "display_name": "Python 3 (ipykernel)",
   "language": "python",
   "name": "python3"
  },
  "language_info": {
   "codemirror_mode": {
    "name": "ipython",
    "version": 2
   },
   "file_extension": ".py",
   "mimetype": "text/x-python",
   "name": "python",
   "nbconvert_exporter": "python",
   "pygments_lexer": "ipython2",
   "version": "3.8.9-final"
  }
 },
 "nbformat": 4,
 "nbformat_minor": 0
}