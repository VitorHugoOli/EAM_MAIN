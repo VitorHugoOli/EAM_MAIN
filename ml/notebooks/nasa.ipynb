{
 "cells": [
  {
   "cell_type": "markdown",
   "source": [
    "# Overview\n",
    "This notebook intends to create a model that can be used to predict the concentration of microplastics, given the latitude, longitude and timestamp. For this your group will create 3 different models:\n",
    " - model 1: To predict the horizontal velocity(u) vector od the given latitude and longitude\n",
    " - model 2: To predict the vertical velocity(v) vector of the given latitude and longitude\n",
    " - model 3: To predict the concentration of microplastics of the given latitude, longitude, u, v and timestamp\n",
    "\n",
    "## Data Explanation\n",
    "The data using in this notebook was obtained from the [EARTHDATA](https://gpm.gsfc.nasa.gov/data/).\n",
    "And all data was provide in the form of a netCDF file.\n",
    "\n",
    "### Ocean Currents\n",
    "This dataset describes the ocean currents at the surface of the Earth, between 01/01/1993 and 01/01/2021.\n",
    "Link to the dataset: [Ocean Surface Current Analyses Real-time](https://search.earthdata.nasa.gov/search/granules?p=C2098858642-POCLOUD&pg[0][v]=f&pg[0][gsk]=-start_date&tl=1648086157.373!3!!&fs10=Ocean%20Currents&fsm0=Ocean%20Circulation&fst0=Oceans)\n",
    "Documentation: [Ocean Currents](https://podaac-tools.jpl.nasa.gov/drive/files/allData/oscar/L4/oscar_v2.0/docs/oscarv2guide.pdf)\n",
    "Download: [Ocean Currents](https://search.earthdata.nasa.gov/downloads/5030564349)\n",
    "\n",
    "#### Ranges\n",
    "The data covers -89.75° to 89.75° latitude and 0° to 359.75° longitude\n",
    "01/01/1993 and 01/01/2021.\n",
    "\n",
    "#### Usage\n",
    "For the usage we catch data from 2010 to 2021.\n",
    "\n",
    "\n",
    "### Microplastics\n",
    "This dataset describes the concentration of microplastics in the ocean.\n",
    "\n",
    "Link to the dataset: [CYGNSS L3 Ocean Microplastic Concentration V1.0](https://search.earthdata.nasa.gov/search/granules/collection-details?p=C2142677420-POCLOUD&pg[0][v]=f&pg[0][gsk]=-start_date&tl=1648079405.876!3!!&fsm0=Water%20Quality&fst0=Oceans)\n",
    "Documentation: [Microplastics Doc](https://podaac-tools.jpl.nasa.gov/drive/files/allData/cygnss/L3/docs/148-0402-1_L3_Microplsatic_ATBD_Released.pdf)\n",
    "Data Description: [Microplastics Data Description](https://podaac-tools.jpl.nasa.gov/drive/files/allData/cygnss/L3/docs/148-0401-2_L3_Microplastic_netCDF_Data_Dictionary.xlsx)\n",
    "Download: [Microplastics Data](https://search.earthdata.nasa.gov/downloads/9368584333)\n",
    "\n",
    "#### Columns\n",
    "- **MP_concentration(Microplastic Concentration):**\n",
    "  Near-surface ocean microplastic number density geometrically averaged over the 1 x 1 degree cell centered on lat and lon and averaged over one month centered on Timestamp, as derived from anomalies in CYGNSS L2 MSS samples.\n",
    "\n",
    "- **stdev_MP_samples(Geometric standard deviation of microplastic concentration samples within spatiotemporal bin):**\n",
    "  The geometric standard deviation of the individual samples of microplastic concentration geometrically averaged together to produce the monthly 1x1 deg L3 gridded product.\n",
    "\n",
    "- **num_MP_samples(Number of microplastic concentration samples within spatiotemporal bin):**\n",
    "  The number of individual samples of microplastic concentration geometrically averaged together to produce the monthly 1x1 deg L3 gridded product.\n",
    "\n",
    "#### Ranges\n",
    "The data covers -37° to 37° latitude and 0° to 359.75° longitude\n",
    "The data covers the dates between 02/04/2017 and 25/09/2018\n",
    "\n",
    "#### Usage\n",
    "For the usage we catch all the data.\n"
   ],
   "metadata": {
    "collapsed": false,
    "pycharm": {
     "name": "#%% md\n"
    }
   }
  },
  {
   "cell_type": "code",
   "execution_count": 1,
   "metadata": {
    "collapsed": true,
    "pycharm": {
     "name": "#%%\n"
    }
   },
   "outputs": [],
   "source": [
    "import pandas as pd\n",
    "import xarray as xr\n",
    "\n",
    "sea_surferce = xr.open_dataset('/Users/vitorhugo/Desktop/facu.nosync/PER_4/EAM/TPs/main/data/Sea_surface/oscar_currents_final_20170402.nc').to_dataframe()\n",
    "\n",
    "sea_microplastic = xr.open_dataset('/Users/vitorhugo/Desktop/facu.nosync/PER_4/EAM/TPs/main/data/Microplastics/cyg.ddmi.s20170402-000000-e20170430-000000.l3.grid-microplastic.a10.d10.nc',\n",
    "                                  decode_cf=False ).to_dataframe()"
   ]
  },
  {
   "cell_type": "code",
   "execution_count": 2,
   "outputs": [],
   "source": [
    "sea_microplastic.reset_index(inplace=True)\n",
    "sea_surferce.reset_index(inplace=True)"
   ],
   "metadata": {
    "collapsed": false,
    "pycharm": {
     "name": "#%%\n"
    }
   }
  },
  {
   "cell_type": "code",
   "execution_count": 3,
   "outputs": [],
   "source": [
    "sea_microplastic.time = pd.to_datetime(sea_microplastic.time, unit='s')"
   ],
   "metadata": {
    "collapsed": false,
    "pycharm": {
     "name": "#%%\n"
    }
   }
  },
  {
   "cell_type": "code",
   "execution_count": 27,
   "outputs": [
    {
     "output_type": "execute_result",
     "data": {
      "text/plain": [
       "        latitude  longitude        time    lat     lon         u         v  \\\n",
       "67023         46        783  2020-02-27 -78.25  195.75 -0.043907  0.003295   \n",
       "67024         46        784  2020-02-27 -78.25  196.00 -0.044057  0.022361   \n",
       "68426         47        746  2020-02-27 -78.00  186.50 -0.032439 -0.036792   \n",
       "68427         47        747  2020-02-27 -78.00  186.75 -0.034885 -0.026592   \n",
       "68428         47        748  2020-02-27 -78.00  187.00 -0.036149 -0.014383   \n",
       "...          ...        ...         ...    ...     ...       ...       ...   \n",
       "983562       683         42  2020-02-27  81.00   10.50 -0.058170  0.010718   \n",
       "983563       683         43  2020-02-27  81.00   10.75 -0.057173  0.014449   \n",
       "983564       683         44  2020-02-27  81.00   11.00 -0.053890  0.018745   \n",
       "983565       683         45  2020-02-27  81.00   11.25 -0.053145  0.016655   \n",
       "983566       683         46  2020-02-27  81.00   11.50 -0.044241  0.024681   \n",
       "\n",
       "              ug        vg  \n",
       "67023  -0.040121  0.005221  \n",
       "67024  -0.040522  0.024803  \n",
       "68426  -0.023662 -0.033061  \n",
       "68427  -0.026257 -0.022218  \n",
       "68428  -0.027586 -0.010049  \n",
       "...          ...       ...  \n",
       "983562 -0.021292  0.023257  \n",
       "983563 -0.020160  0.025626  \n",
       "983564 -0.019273  0.029720  \n",
       "983565 -0.017927  0.030910  \n",
       "983566 -0.017652  0.027250  \n",
       "\n",
       "[583571 rows x 9 columns]"
      ],
      "text/html": "<div>\n<style scoped>\n    .dataframe tbody tr th:only-of-type {\n        vertical-align: middle;\n    }\n\n    .dataframe tbody tr th {\n        vertical-align: top;\n    }\n\n    .dataframe thead th {\n        text-align: right;\n    }\n</style>\n<table border=\"1\" class=\"dataframe\">\n  <thead>\n    <tr style=\"text-align: right;\">\n      <th></th>\n      <th>latitude</th>\n      <th>longitude</th>\n      <th>time</th>\n      <th>lat</th>\n      <th>lon</th>\n      <th>u</th>\n      <th>v</th>\n      <th>ug</th>\n      <th>vg</th>\n    </tr>\n  </thead>\n  <tbody>\n    <tr>\n      <th>67023</th>\n      <td>46</td>\n      <td>783</td>\n      <td>2020-02-27</td>\n      <td>-78.25</td>\n      <td>195.75</td>\n      <td>-0.043907</td>\n      <td>0.003295</td>\n      <td>-0.040121</td>\n      <td>0.005221</td>\n    </tr>\n    <tr>\n      <th>67024</th>\n      <td>46</td>\n      <td>784</td>\n      <td>2020-02-27</td>\n      <td>-78.25</td>\n      <td>196.00</td>\n      <td>-0.044057</td>\n      <td>0.022361</td>\n      <td>-0.040522</td>\n      <td>0.024803</td>\n    </tr>\n    <tr>\n      <th>68426</th>\n      <td>47</td>\n      <td>746</td>\n      <td>2020-02-27</td>\n      <td>-78.00</td>\n      <td>186.50</td>\n      <td>-0.032439</td>\n      <td>-0.036792</td>\n      <td>-0.023662</td>\n      <td>-0.033061</td>\n    </tr>\n    <tr>\n      <th>68427</th>\n      <td>47</td>\n      <td>747</td>\n      <td>2020-02-27</td>\n      <td>-78.00</td>\n      <td>186.75</td>\n      <td>-0.034885</td>\n      <td>-0.026592</td>\n      <td>-0.026257</td>\n      <td>-0.022218</td>\n    </tr>\n    <tr>\n      <th>68428</th>\n      <td>47</td>\n      <td>748</td>\n      <td>2020-02-27</td>\n      <td>-78.00</td>\n      <td>187.00</td>\n      <td>-0.036149</td>\n      <td>-0.014383</td>\n      <td>-0.027586</td>\n      <td>-0.010049</td>\n    </tr>\n    <tr>\n      <th>...</th>\n      <td>...</td>\n      <td>...</td>\n      <td>...</td>\n      <td>...</td>\n      <td>...</td>\n      <td>...</td>\n      <td>...</td>\n      <td>...</td>\n      <td>...</td>\n    </tr>\n    <tr>\n      <th>983562</th>\n      <td>683</td>\n      <td>42</td>\n      <td>2020-02-27</td>\n      <td>81.00</td>\n      <td>10.50</td>\n      <td>-0.058170</td>\n      <td>0.010718</td>\n      <td>-0.021292</td>\n      <td>0.023257</td>\n    </tr>\n    <tr>\n      <th>983563</th>\n      <td>683</td>\n      <td>43</td>\n      <td>2020-02-27</td>\n      <td>81.00</td>\n      <td>10.75</td>\n      <td>-0.057173</td>\n      <td>0.014449</td>\n      <td>-0.020160</td>\n      <td>0.025626</td>\n    </tr>\n    <tr>\n      <th>983564</th>\n      <td>683</td>\n      <td>44</td>\n      <td>2020-02-27</td>\n      <td>81.00</td>\n      <td>11.00</td>\n      <td>-0.053890</td>\n      <td>0.018745</td>\n      <td>-0.019273</td>\n      <td>0.029720</td>\n    </tr>\n    <tr>\n      <th>983565</th>\n      <td>683</td>\n      <td>45</td>\n      <td>2020-02-27</td>\n      <td>81.00</td>\n      <td>11.25</td>\n      <td>-0.053145</td>\n      <td>0.016655</td>\n      <td>-0.017927</td>\n      <td>0.030910</td>\n    </tr>\n    <tr>\n      <th>983566</th>\n      <td>683</td>\n      <td>46</td>\n      <td>2020-02-27</td>\n      <td>81.00</td>\n      <td>11.50</td>\n      <td>-0.044241</td>\n      <td>0.024681</td>\n      <td>-0.017652</td>\n      <td>0.027250</td>\n    </tr>\n  </tbody>\n</table>\n<p>583571 rows × 9 columns</p>\n</div>"
     },
     "metadata": {},
     "execution_count": 27
    }
   ],
   "source": [
    "sea_surferce.dropna()"
   ],
   "metadata": {
    "collapsed": false,
    "pycharm": {
     "name": "#%%\n"
    }
   }
  },
  {
   "cell_type": "code",
   "execution_count": 5,
   "outputs": [],
   "source": [
    "sea_surferce.time = sea_surferce.time.apply(lambda x: x.strftime('%Y-%m-%d'))"
   ],
   "metadata": {
    "collapsed": false,
    "pycharm": {
     "name": "#%%\n"
    }
   }
  },
  {
   "cell_type": "code",
   "execution_count": 6,
   "outputs": [],
   "source": [
    "sea_surferce.time = pd.to_datetime(sea_surferce.time)"
   ],
   "metadata": {
    "collapsed": false,
    "pycharm": {
     "name": "#%%\n"
    }
   }
  },
  {
   "cell_type": "code",
   "execution_count": 10,
   "outputs": [
    {
     "data": {
      "text/plain": "             time   lat     lon         u         v        ug        vg  \\\n0      2017-04-02 -37.0    0.00  0.047021 -0.118582  0.048551 -0.156574   \n1      2017-04-02 -37.0    0.25  0.025014 -0.101328  0.025305 -0.139278   \n2      2017-04-02 -37.0    0.50  0.007516 -0.041009  0.007431 -0.079920   \n3      2017-04-02 -37.0    0.75 -0.002129  0.059129 -0.001356  0.019361   \n4      2017-04-02 -37.0    1.00 -0.005274  0.149390 -0.004920  0.111028   \n...           ...   ...     ...       ...       ...       ...       ...   \n427675 2017-04-02  37.0  358.75 -0.025552 -0.060860 -0.022493 -0.059385   \n427676 2017-04-02  37.0  359.00 -0.005789 -0.103711 -0.004418 -0.103496   \n427677 2017-04-02  37.0  359.25 -0.003856 -0.137441 -0.003264 -0.138371   \n427678 2017-04-02  37.0  359.50 -0.011238 -0.135992 -0.011799 -0.135844   \n427679 2017-04-02  37.0  359.75 -0.018875 -0.095665 -0.020886 -0.094223   \n\n        MP_concentration  stdev_MP_samples  num_MP_samples  \n0           7.674302e+05        105.438815             533  \n1           8.058970e+05        141.690521             501  \n2           7.340737e+05        154.208858             488  \n3           5.379874e+05        389.446705             464  \n4           3.908790e+05        592.544665             429  \n...                  ...               ...             ...  \n427675      1.162185e+08        258.126342             125  \n427676      1.467700e+08        357.508697             155  \n427677      8.054956e+07        410.582070             153  \n427678      2.389635e+07        413.973273             141  \n427679      1.603701e+07        393.903370             160  \n\n[427680 rows x 10 columns]",
      "text/html": "<div>\n<style scoped>\n    .dataframe tbody tr th:only-of-type {\n        vertical-align: middle;\n    }\n\n    .dataframe tbody tr th {\n        vertical-align: top;\n    }\n\n    .dataframe thead th {\n        text-align: right;\n    }\n</style>\n<table border=\"1\" class=\"dataframe\">\n  <thead>\n    <tr style=\"text-align: right;\">\n      <th></th>\n      <th>time</th>\n      <th>lat</th>\n      <th>lon</th>\n      <th>u</th>\n      <th>v</th>\n      <th>ug</th>\n      <th>vg</th>\n      <th>MP_concentration</th>\n      <th>stdev_MP_samples</th>\n      <th>num_MP_samples</th>\n    </tr>\n  </thead>\n  <tbody>\n    <tr>\n      <th>0</th>\n      <td>2017-04-02</td>\n      <td>-37.0</td>\n      <td>0.00</td>\n      <td>0.047021</td>\n      <td>-0.118582</td>\n      <td>0.048551</td>\n      <td>-0.156574</td>\n      <td>7.674302e+05</td>\n      <td>105.438815</td>\n      <td>533</td>\n    </tr>\n    <tr>\n      <th>1</th>\n      <td>2017-04-02</td>\n      <td>-37.0</td>\n      <td>0.25</td>\n      <td>0.025014</td>\n      <td>-0.101328</td>\n      <td>0.025305</td>\n      <td>-0.139278</td>\n      <td>8.058970e+05</td>\n      <td>141.690521</td>\n      <td>501</td>\n    </tr>\n    <tr>\n      <th>2</th>\n      <td>2017-04-02</td>\n      <td>-37.0</td>\n      <td>0.50</td>\n      <td>0.007516</td>\n      <td>-0.041009</td>\n      <td>0.007431</td>\n      <td>-0.079920</td>\n      <td>7.340737e+05</td>\n      <td>154.208858</td>\n      <td>488</td>\n    </tr>\n    <tr>\n      <th>3</th>\n      <td>2017-04-02</td>\n      <td>-37.0</td>\n      <td>0.75</td>\n      <td>-0.002129</td>\n      <td>0.059129</td>\n      <td>-0.001356</td>\n      <td>0.019361</td>\n      <td>5.379874e+05</td>\n      <td>389.446705</td>\n      <td>464</td>\n    </tr>\n    <tr>\n      <th>4</th>\n      <td>2017-04-02</td>\n      <td>-37.0</td>\n      <td>1.00</td>\n      <td>-0.005274</td>\n      <td>0.149390</td>\n      <td>-0.004920</td>\n      <td>0.111028</td>\n      <td>3.908790e+05</td>\n      <td>592.544665</td>\n      <td>429</td>\n    </tr>\n    <tr>\n      <th>...</th>\n      <td>...</td>\n      <td>...</td>\n      <td>...</td>\n      <td>...</td>\n      <td>...</td>\n      <td>...</td>\n      <td>...</td>\n      <td>...</td>\n      <td>...</td>\n      <td>...</td>\n    </tr>\n    <tr>\n      <th>427675</th>\n      <td>2017-04-02</td>\n      <td>37.0</td>\n      <td>358.75</td>\n      <td>-0.025552</td>\n      <td>-0.060860</td>\n      <td>-0.022493</td>\n      <td>-0.059385</td>\n      <td>1.162185e+08</td>\n      <td>258.126342</td>\n      <td>125</td>\n    </tr>\n    <tr>\n      <th>427676</th>\n      <td>2017-04-02</td>\n      <td>37.0</td>\n      <td>359.00</td>\n      <td>-0.005789</td>\n      <td>-0.103711</td>\n      <td>-0.004418</td>\n      <td>-0.103496</td>\n      <td>1.467700e+08</td>\n      <td>357.508697</td>\n      <td>155</td>\n    </tr>\n    <tr>\n      <th>427677</th>\n      <td>2017-04-02</td>\n      <td>37.0</td>\n      <td>359.25</td>\n      <td>-0.003856</td>\n      <td>-0.137441</td>\n      <td>-0.003264</td>\n      <td>-0.138371</td>\n      <td>8.054956e+07</td>\n      <td>410.582070</td>\n      <td>153</td>\n    </tr>\n    <tr>\n      <th>427678</th>\n      <td>2017-04-02</td>\n      <td>37.0</td>\n      <td>359.50</td>\n      <td>-0.011238</td>\n      <td>-0.135992</td>\n      <td>-0.011799</td>\n      <td>-0.135844</td>\n      <td>2.389635e+07</td>\n      <td>413.973273</td>\n      <td>141</td>\n    </tr>\n    <tr>\n      <th>427679</th>\n      <td>2017-04-02</td>\n      <td>37.0</td>\n      <td>359.75</td>\n      <td>-0.018875</td>\n      <td>-0.095665</td>\n      <td>-0.020886</td>\n      <td>-0.094223</td>\n      <td>1.603701e+07</td>\n      <td>393.903370</td>\n      <td>160</td>\n    </tr>\n  </tbody>\n</table>\n<p>427680 rows × 10 columns</p>\n</div>"
     },
     "execution_count": 10,
     "metadata": {},
     "output_type": "execute_result"
    }
   ],
   "source": [
    "pd.merge(sea_surferce, sea_microplastic, on=['time', 'lat', 'lon']).drop(['latitude', 'longitude'], axis=1)"
   ],
   "metadata": {
    "collapsed": false,
    "pycharm": {
     "name": "#%%\n"
    }
   }
  },
  {
   "cell_type": "code",
   "execution_count": null,
   "outputs": [],
   "source": [
    "# lat, long, date -> [modelo 1] = u\n",
    "# lat, long, date -> [modelo 2] = v\n",
    "# lat, long, date, u, v -> [modelo 3] = microplastic\n",
    "\n",
    "# Dataset 1 - Ocean Surface Currents:\n",
    "# https://search.earthdata.nasa.gov/search/granules/collection-details?p=C2098858642-POCLOUD&pg[0][v]=f&pg[0][gsk]=-start_date&tl=1647902537.793!3!!&fs10=Ocean%20Currents&fsm0=Ocean%20Circulation&fst0=Oceans&m=-21.297179625649704!-124.31249999999999!0!1!0!0%2C2\n",
    "\n",
    "# Train: 2016 - 2020\n",
    "# Validation: 2021\n",
    "\n",
    "\n",
    "# date -> seson -> seson, lat, long -> [modelo]"
   ],
   "metadata": {
    "collapsed": false,
    "pycharm": {
     "name": "#%%\n"
    }
   }
  }
 ],
 "metadata": {
  "kernelspec": {
   "display_name": "Python 3 (ipykernel)",
   "language": "python",
   "name": "python3"
  },
  "language_info": {
   "codemirror_mode": {
    "name": "ipython",
    "version": 2
   },
   "file_extension": ".py",
   "mimetype": "text/x-python",
   "name": "python",
   "nbconvert_exporter": "python",
   "pygments_lexer": "ipython2",
   "version": "3.8.9-final"
  }
 },
 "nbformat": 4,
 "nbformat_minor": 0
}