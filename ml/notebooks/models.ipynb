{
 "cells": [
  {
   "cell_type": "code",
   "execution_count": 2,
   "metadata": {
    "collapsed": true
   },
   "outputs": [
    {
     "data": {
      "text/plain": "<dask.config.set at 0x11d3320d0>"
     },
     "execution_count": 2,
     "metadata": {},
     "output_type": "execute_result"
    }
   ],
   "source": [
    "from multiprocessing.pool import ThreadPool\n",
    "import dask.dataframe as dd\n",
    "import dask\n",
    "dask.config.set(pool=ThreadPool(500))"
   ]
  },
  {
   "cell_type": "code",
   "execution_count": 2,
   "outputs": [],
   "source": [
    "df = dd.read_parquet('../data/merge/mp_current_2018.parquet')"
   ],
   "metadata": {
    "collapsed": false,
    "pycharm": {
     "name": "#%%\n"
    }
   }
  },
  {
   "cell_type": "code",
   "execution_count": 3,
   "outputs": [],
   "source": [
    "normalize = lambda x: (x < -180) and (x + 360) or (x > 180) and x - 360 or x\n",
    "\n",
    "df['lon'] = df['lon'].map(normalize)"
   ],
   "metadata": {
    "collapsed": false,
    "pycharm": {
     "name": "#%%\n"
    }
   }
  },
  {
   "cell_type": "code",
   "execution_count": 4,
   "outputs": [
    {
     "name": "stderr",
     "output_type": "stream",
     "text": [
      "/Users/vitorhugo/Desktop/facu.nosync/PER_4/EAM/TPs/main/venv/lib/python3.8/site-packages/dask/dataframe/core.py:5314: UserWarning: \n",
      "You did not provide metadata, so Dask is running your function on a small dataset to guess output types. It is possible that Dask will guess incorrectly.\n",
      "To provide an explicit output types or to silence this message, please provide the `meta=` keyword, as described in the map or apply function that you are using.\n",
      "  Before: .apply(func)\n",
      "  After:  .apply(func, meta=(None, 'object'))\n",
      "\n",
      "  warnings.warn(meta_warning(meta))\n"
     ]
    }
   ],
   "source": [
    "def get_ocean(row):\n",
    "    if (-60 <= row['lat'] <= 69) and (-83 <= row['lon'] <= 20):\n",
    "        return 'Atlantic'\n",
    "    elif (-60 <= row['lat'] <= 58) and ((128 <= row['lon'] < 181) or (-180 <= row['lon'] <= -67)):\n",
    "        return 'Pacific'\n",
    "    elif (-60 <= row['lat'] <= 31) and (20 <= row['lon'] <= 146):\n",
    "        return 'Indian'\n",
    "    elif (51 <= row['lat'] <= 90) and (-180 <= row['lon'] <= 180):\n",
    "        return 'Artic'\n",
    "    elif (-85 <= row['lat'] <= -60) and (-180 <= row['lon'] <= 180):\n",
    "        return 'Southern Ocean'\n",
    "    elif (30 <= row['lat'] <= 45) and (6 <= row['lon'] <= 36):\n",
    "        return 'Mediterranean'\n",
    "\n",
    "\n",
    "df['ocean'] = df.apply(lambda row: get_ocean(row), axis=1)"
   ],
   "metadata": {
    "collapsed": false,
    "pycharm": {
     "name": "#%%\n"
    }
   }
  },
  {
   "cell_type": "code",
   "execution_count": 5,
   "outputs": [
    {
     "data": {
      "text/plain": "(None,)"
     },
     "execution_count": 5,
     "metadata": {},
     "output_type": "execute_result"
    }
   ],
   "source": [
    "df.to_parquet('../data/merge/mp_current_2018_add_oceans.parquet')"
   ],
   "metadata": {
    "collapsed": false,
    "pycharm": {
     "name": "#%%\n"
    }
   }
  },
  {
   "cell_type": "code",
   "execution_count": 3,
   "outputs": [],
   "source": [
    "df_oceans = dd.read_parquet('../data/merge/mp_current_2018_add_oceans.parquet')\n",
    "df_oceans = df_oceans[df_oceans['ocean'].isnull() != True]\n",
    "df_oceans = df_oceans.drop(['latitude', 'longitude'], axis=1)"
   ],
   "metadata": {
    "collapsed": false,
    "pycharm": {
     "name": "#%%\n"
    }
   }
  },
  {
   "cell_type": "code",
   "execution_count": 5,
   "outputs": [
    {
     "data": {
      "text/plain": "Index(['time', 'lat', 'lon', 'MP_concentration', 'stdev_MP_samples',\n       'num_MP_samples', 'u', 'v', 'ug', 'vg', 'ocean'],\n      dtype='object')"
     },
     "execution_count": 5,
     "metadata": {},
     "output_type": "execute_result"
    }
   ],
   "source": [
    "# df_oceans.to_parquet('../data/merge/mp_current_2018_add_oceans_no_null.parquet',compute=True)\n",
    "df_oceans.columns"
   ],
   "metadata": {
    "collapsed": false,
    "pycharm": {
     "name": "#%%\n"
    }
   }
  },
  {
   "cell_type": "code",
   "execution_count": null,
   "outputs": [],
   "source": [],
   "metadata": {
    "collapsed": false,
    "pycharm": {
     "name": "#%%\n"
    }
   }
  }
 ],
 "metadata": {
  "kernelspec": {
   "display_name": "Python 3",
   "language": "python",
   "name": "python3"
  },
  "language_info": {
   "codemirror_mode": {
    "name": "ipython",
    "version": 2
   },
   "file_extension": ".py",
   "mimetype": "text/x-python",
   "name": "python",
   "nbconvert_exporter": "python",
   "pygments_lexer": "ipython2",
   "version": "2.7.6"
  }
 },
 "nbformat": 4,
 "nbformat_minor": 0
}