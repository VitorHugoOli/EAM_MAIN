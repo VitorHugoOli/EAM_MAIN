{
 "cells": [
  {
   "cell_type": "code",
   "execution_count": 1,
   "metadata": {},
   "outputs": [],
   "source": [
    "teste = {\n",
    "    'lat': 36.75, 'lon': 3.75\n",
    "}"
   ]
  },
  {
   "cell_type": "code",
   "execution_count": 6,
   "metadata": {
    "pycharm": {
     "name": "#%%\n"
    }
   },
   "outputs": [
    {
     "ename": "SyntaxError",
     "evalue": "invalid syntax (85073658.py, line 1)",
     "output_type": "error",
     "traceback": [
      "\u001B[0;36m  Input \u001B[0;32mIn [6]\u001B[0;36m\u001B[0m\n\u001B[0;31m    lambda normalize x: x < -180 and x + 360 or x > 180 and x - 360 or x\u001B[0m\n\u001B[0m                     ^\u001B[0m\n\u001B[0;31mSyntaxError\u001B[0m\u001B[0;31m:\u001B[0m invalid syntax\n"
     ]
    }
   ],
   "source": [
    "normalize = lambda x: (x < -180) and (x + 360) or (x > 180) and x - 360 or x\n",
    "\n",
    "\n",
    "def get_ocean(row):\n",
    "    if (-60 <= row['lat'] <= 69) and (-83 <= lon <= 20):\n",
    "        return 'Atlantic'\n",
    "    elif (-60 <= row['lat'] <= 58) and ((128 <= lon < 181) or (-180 <= lon <= -67)):\n",
    "        return 'Pacific'\n",
    "    elif (-60 <= row['lat'] <= 31) and (20 <= lon <= 146):\n",
    "        return 'Indian'\n",
    "    elif (51 <= row['lat'] <= 90) and (-180 <= lon <= 180):\n",
    "        return 'Artic'\n",
    "    elif (-85 <= row['lat'] <= -60) and (-180 <= lon <= 180):\n",
    "        return 'Southern Ocean'\n",
    "    else:\n",
    "        return 'Other'"
   ]
  },
  {
   "cell_type": "code",
   "execution_count": 5,
   "outputs": [
    {
     "name": "stdout",
     "output_type": "stream",
     "text": [
      "None\n"
     ]
    }
   ],
   "source": [
    "print(get_ocean(teste))"
   ],
   "metadata": {
    "collapsed": false,
    "pycharm": {
     "name": "#%%\n"
    }
   }
  },
  {
   "cell_type": "code",
   "execution_count": null,
   "outputs": [],
   "source": [],
   "metadata": {
    "collapsed": false,
    "pycharm": {
     "name": "#%%\n"
    }
   }
  }
 ],
 "metadata": {
  "kernelspec": {
   "display_name": "Python 3 (ipykernel)",
   "language": "python",
   "name": "python3"
  },
  "language_info": {
   "codemirror_mode": {
    "name": "ipython",
    "version": 3
   },
   "file_extension": ".py",
   "mimetype": "text/x-python",
   "name": "python",
   "nbconvert_exporter": "python",
   "pygments_lexer": "ipython3",
   "version": "3.8.9"
  }
 },
 "nbformat": 4,
 "nbformat_minor": 1
}