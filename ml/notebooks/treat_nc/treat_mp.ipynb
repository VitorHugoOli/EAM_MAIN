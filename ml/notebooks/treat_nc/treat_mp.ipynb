{
 "nbformat": 4,
 "nbformat_minor": 0,
 "metadata": {
  "colab": {
   "name": "Untitled0.ipynb",
   "provenance": []
  },
  "kernelspec": {
   "name": "python3",
   "display_name": "Python 3"
  },
  "language_info": {
   "name": "python"
  }
 },
 "cells": [
  {
   "cell_type": "code",
   "execution_count": null,
   "outputs": [],
   "source": [
    "import pandas as pd\n",
    "import numpy as np\n",
    "import xarray as xr\n",
    "import matplotlib.pyplot as plt"
   ],
   "metadata": {
    "collapsed": false,
    "pycharm": {
     "name": "#%%\n"
    }
   }
  },
  {
   "cell_type": "code",
   "execution_count": null,
   "outputs": [],
   "source": [
    "from os import listdir\n",
    "from os.path import isfile, join\n",
    "mypath = '/Users/vitorhugo/Desktop/EAM_DATA/microplastics/'\n",
    "onlyfiles = [f for f in listdir(mypath) if isfile(join(mypath, f))]"
   ],
   "metadata": {
    "collapsed": false,
    "pycharm": {
     "name": "#%%\n"
    }
   }
  },
  {
   "cell_type": "code",
   "execution_count": null,
   "outputs": [],
   "source": [
    "onlyfiles = [f for f in onlyfiles if f.endswith('.nc')]\n",
    "df_microplastic = pd.concat([xr.open_dataset(mypath + i, decode_cf=False,engine='netcdf4').to_dataframe() for i in onlyfiles])"
   ],
   "metadata": {
    "collapsed": false,
    "pycharm": {
     "name": "#%%\n"
    }
   }
  },
  {
   "cell_type": "code",
   "execution_count": 4,
   "outputs": [
    {
     "name": "stderr",
     "output_type": "stream",
     "text": [
      "/var/folders/pz/48bvl15s6z733xwbsb313kym0000gn/T/ipykernel_39032/3299086948.py:4: FutureWarning: inplace is deprecated and will be removed in a future version.\n",
      "  df_microplastic.index.set_levels(times_date, level=0, inplace=True)\n"
     ]
    }
   ],
   "source": [
    "# Convert index 0 to datetime\n",
    "times = df_microplastic.index.get_level_values(0).unique().tolist()\n",
    "times_date = [pd.to_datetime(i, unit='s') for i in times]\n",
    "df_microplastic.index.set_levels(times_date, level=0, inplace=True)"
   ],
   "metadata": {
    "collapsed": false,
    "pycharm": {
     "name": "#%%\n"
    }
   }
  },
  {
   "cell_type": "code",
   "execution_count": 5,
   "outputs": [],
   "source": [
    "df_microplastic.to_pickle('microplastics.pkl')"
   ],
   "metadata": {
    "collapsed": false,
    "pycharm": {
     "name": "#%%\n"
    }
   }
  },
  {
   "cell_type": "code",
   "execution_count": 9,
   "outputs": [
    {
     "data": {
      "text/plain": "                         MP_concentration  stdev_MP_samples  num_MP_samples\ntime       lat   lon                                                       \n2017-05-30  37.0 0.00       127820.876840       1134.182195             528\n                 0.25        71882.360409        828.196445             528\n                 0.50        48858.744530        431.143039             509\n                 0.75        46302.631274        388.572453             458\n                 1.00        89564.673565        366.544543             411\n...                                   ...               ...             ...\n2017-08-04 -37.0 358.75       3031.899617      45427.360993             528\n                 359.00       1597.595478     103238.629376             386\n                 359.25       1046.111470     120685.757493             398\n                 359.50        933.054334     210908.877960             425\n                 359.75       2132.017046      70955.147255             436\n\n[231802560 rows x 3 columns]",
      "text/html": "<div>\n<style scoped>\n    .dataframe tbody tr th:only-of-type {\n        vertical-align: middle;\n    }\n\n    .dataframe tbody tr th {\n        vertical-align: top;\n    }\n\n    .dataframe thead th {\n        text-align: right;\n    }\n</style>\n<table border=\"1\" class=\"dataframe\">\n  <thead>\n    <tr style=\"text-align: right;\">\n      <th></th>\n      <th></th>\n      <th></th>\n      <th>MP_concentration</th>\n      <th>stdev_MP_samples</th>\n      <th>num_MP_samples</th>\n    </tr>\n    <tr>\n      <th>time</th>\n      <th>lat</th>\n      <th>lon</th>\n      <th></th>\n      <th></th>\n      <th></th>\n    </tr>\n  </thead>\n  <tbody>\n    <tr>\n      <th rowspan=\"5\" valign=\"top\">2017-05-30</th>\n      <th rowspan=\"5\" valign=\"top\">37.0</th>\n      <th>0.00</th>\n      <td>127820.876840</td>\n      <td>1134.182195</td>\n      <td>528</td>\n    </tr>\n    <tr>\n      <th>0.25</th>\n      <td>71882.360409</td>\n      <td>828.196445</td>\n      <td>528</td>\n    </tr>\n    <tr>\n      <th>0.50</th>\n      <td>48858.744530</td>\n      <td>431.143039</td>\n      <td>509</td>\n    </tr>\n    <tr>\n      <th>0.75</th>\n      <td>46302.631274</td>\n      <td>388.572453</td>\n      <td>458</td>\n    </tr>\n    <tr>\n      <th>1.00</th>\n      <td>89564.673565</td>\n      <td>366.544543</td>\n      <td>411</td>\n    </tr>\n    <tr>\n      <th>...</th>\n      <th>...</th>\n      <th>...</th>\n      <td>...</td>\n      <td>...</td>\n      <td>...</td>\n    </tr>\n    <tr>\n      <th rowspan=\"5\" valign=\"top\">2017-08-04</th>\n      <th rowspan=\"5\" valign=\"top\">-37.0</th>\n      <th>358.75</th>\n      <td>3031.899617</td>\n      <td>45427.360993</td>\n      <td>528</td>\n    </tr>\n    <tr>\n      <th>359.00</th>\n      <td>1597.595478</td>\n      <td>103238.629376</td>\n      <td>386</td>\n    </tr>\n    <tr>\n      <th>359.25</th>\n      <td>1046.111470</td>\n      <td>120685.757493</td>\n      <td>398</td>\n    </tr>\n    <tr>\n      <th>359.50</th>\n      <td>933.054334</td>\n      <td>210908.877960</td>\n      <td>425</td>\n    </tr>\n    <tr>\n      <th>359.75</th>\n      <td>2132.017046</td>\n      <td>70955.147255</td>\n      <td>436</td>\n    </tr>\n  </tbody>\n</table>\n<p>231802560 rows × 3 columns</p>\n</div>"
     },
     "execution_count": 9,
     "metadata": {},
     "output_type": "execute_result"
    }
   ],
   "source": [
    "df_microplastic"
   ],
   "metadata": {
    "collapsed": false,
    "pycharm": {
     "name": "#%%\n"
    }
   }
  },
  {
   "cell_type": "code",
   "execution_count": 10,
   "outputs": [],
   "source": [
    "# Clean all -999 values are converted to NaN\n",
    "df_microplastic.MP_concentration.replace(-999.0, np.nan, inplace=True)"
   ],
   "metadata": {
    "collapsed": false,
    "pycharm": {
     "name": "#%%\n"
    }
   }
  },
  {
   "cell_type": "code",
   "execution_count": 11,
   "outputs": [],
   "source": [
    "df_microplastic.to_pickle('microplastics_clean.pkl')"
   ],
   "metadata": {
    "collapsed": false,
    "pycharm": {
     "name": "#%%\n"
    }
   }
  },
  {
   "cell_type": "code",
   "execution_count": 12,
   "outputs": [
    {
     "data": {
      "text/plain": "       MP_concentration  stdev_MP_samples  num_MP_samples\ncount      2.318026e+08      2.318026e+08    2.318026e+08\nmean       9.445126e+07      1.762400e+83    4.903544e+02\nstd        1.749009e+10      2.683237e+87    4.540821e+02\nmin       -9.999000e+03     -9.999000e+03   -9.900000e+01\n25%       -9.999000e+03     -9.999000e+03   -9.900000e+01\n50%        5.294554e+03      2.130541e+02    5.360000e+02\n75%        2.788907e+04      1.120638e+03    7.740000e+02\nmax        8.739012e+12      4.085245e+91    3.300000e+03",
      "text/html": "<div>\n<style scoped>\n    .dataframe tbody tr th:only-of-type {\n        vertical-align: middle;\n    }\n\n    .dataframe tbody tr th {\n        vertical-align: top;\n    }\n\n    .dataframe thead th {\n        text-align: right;\n    }\n</style>\n<table border=\"1\" class=\"dataframe\">\n  <thead>\n    <tr style=\"text-align: right;\">\n      <th></th>\n      <th>MP_concentration</th>\n      <th>stdev_MP_samples</th>\n      <th>num_MP_samples</th>\n    </tr>\n  </thead>\n  <tbody>\n    <tr>\n      <th>count</th>\n      <td>2.318026e+08</td>\n      <td>2.318026e+08</td>\n      <td>2.318026e+08</td>\n    </tr>\n    <tr>\n      <th>mean</th>\n      <td>9.445126e+07</td>\n      <td>1.762400e+83</td>\n      <td>4.903544e+02</td>\n    </tr>\n    <tr>\n      <th>std</th>\n      <td>1.749009e+10</td>\n      <td>2.683237e+87</td>\n      <td>4.540821e+02</td>\n    </tr>\n    <tr>\n      <th>min</th>\n      <td>-9.999000e+03</td>\n      <td>-9.999000e+03</td>\n      <td>-9.900000e+01</td>\n    </tr>\n    <tr>\n      <th>25%</th>\n      <td>-9.999000e+03</td>\n      <td>-9.999000e+03</td>\n      <td>-9.900000e+01</td>\n    </tr>\n    <tr>\n      <th>50%</th>\n      <td>5.294554e+03</td>\n      <td>2.130541e+02</td>\n      <td>5.360000e+02</td>\n    </tr>\n    <tr>\n      <th>75%</th>\n      <td>2.788907e+04</td>\n      <td>1.120638e+03</td>\n      <td>7.740000e+02</td>\n    </tr>\n    <tr>\n      <th>max</th>\n      <td>8.739012e+12</td>\n      <td>4.085245e+91</td>\n      <td>3.300000e+03</td>\n    </tr>\n  </tbody>\n</table>\n</div>"
     },
     "execution_count": 12,
     "metadata": {},
     "output_type": "execute_result"
    }
   ],
   "source": [
    "df_microplastic.describe()"
   ],
   "metadata": {
    "collapsed": false,
    "pycharm": {
     "name": "#%%\n"
    }
   }
  },
  {
   "cell_type": "code",
   "execution_count": null,
   "outputs": [],
   "source": [],
   "metadata": {
    "collapsed": false,
    "pycharm": {
     "name": "#%%\n"
    }
   }
  }
 ]
}